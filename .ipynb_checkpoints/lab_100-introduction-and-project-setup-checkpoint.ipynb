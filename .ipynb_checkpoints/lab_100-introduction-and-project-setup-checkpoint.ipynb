{
 "cells": [
  {
   "cell_type": "markdown",
   "id": "c0ea9642",
   "metadata": {},
   "source": [
    "# LAB 100: MACHINE LEARNING FOUNDATION"
   ]
  },
  {
   "cell_type": "markdown",
   "id": "eee54237",
   "metadata": {},
   "source": [
    "## Objectives:\n",
    "\n",
    "1. Installation of Python & Anaconda Navigator.\n",
    "2. Installation of GitHub Desktop.\n",
    "3. Setting up a project on local Repository linked to a GitHub repository.\n",
    "4. Foundational skills."
   ]
  },
  {
   "cell_type": "markdown",
   "id": "1f6fff6f",
   "metadata": {},
   "source": [
    "# 1.\tInstallation of Python & Anaconda Navigator"
   ]
  },
  {
   "cell_type": "markdown",
   "id": "70fb29fc",
   "metadata": {},
   "source": [
    "__Installing Python__  <a id='python_installation'></a>\n",
    "\n",
    " How to install Python using the [Anaconda distribution](https://www.anaconda.com/) of Python."
   ]
  },
  {
   "cell_type": "code",
   "execution_count": 1,
   "id": "1bfa3a2a",
   "metadata": {
    "scrolled": true,
    "tags": [
     "hide-input"
    ]
   },
   "outputs": [
    {
     "name": "stderr",
     "output_type": "stream",
     "text": [
      "C:\\Users\\Eddie\\AppData\\Roaming\\Python\\Python311\\site-packages\\IPython\\core\\display.py:431: UserWarning: Consider using IPython.display.IFrame instead\n",
      "  warnings.warn(\"Consider using IPython.display.IFrame instead\")\n"
     ]
    },
    {
     "data": {
      "text/html": [
       "<iframe width=\"449\" height=\"234\" src=\"https://www.youtube.com/embed/ZWQwGR5ppnk\" frameborder=\"0\" allow=\"accelerometer; autoplay; clipboard-write; encrypted-media; gyroscope; picture-in-picture; web-share\" allowfullscreen></iframe>"
      ],
      "text/plain": [
       "<IPython.core.display.HTML object>"
      ]
     },
     "execution_count": 1,
     "metadata": {},
     "output_type": "execute_result"
    }
   ],
   "source": [
    "from IPython.display import HTML\n",
    "HTML(f'<iframe width=\"449\" height=\"234\" src=\"https://www.youtube.com/embed/ZWQwGR5ppnk\" frameborder=\"0\" allow=\"accelerometer; autoplay; clipboard-write; encrypted-media; gyroscope; picture-in-picture; web-share\" allowfullscreen></iframe>')"
   ]
  },
  {
   "cell_type": "markdown",
   "id": "cd4a55c1",
   "metadata": {},
   "source": [
    "How to install [Visual Studio Code](https://code.visualstudio.com/) and use it to run Python scripts in an interactive window.\n",
    "\n",
    "There are some other extensions it’s useful to have and install (if they aren’t already):\n",
    "\n",
    "- Jupyter\n",
    "\n",
    "- Pylance\n",
    "\n",
    "- indent-rainbow"
   ]
  },
  {
   "cell_type": "code",
   "execution_count": 2,
   "id": "a026e1f2",
   "metadata": {},
   "outputs": [
    {
     "data": {
      "text/html": [
       "<iframe width=\"449\" height=\"234\" src=\"https://www.youtube.com/embed/1kKTYsQdaPw\" frameborder=\"0\" allow=\"accelerometer; autoplay; clipboard-write; encrypted-media; gyroscope; picture-in-picture; web-share\" allowfullscreen></iframe>"
      ],
      "text/plain": [
       "<IPython.core.display.HTML object>"
      ]
     },
     "execution_count": 2,
     "metadata": {},
     "output_type": "execute_result"
    }
   ],
   "source": [
    "HTML(f'<iframe width=\"449\" height=\"234\" src=\"https://www.youtube.com/embed/1kKTYsQdaPw\" frameborder=\"0\" allow=\"accelerometer; autoplay; clipboard-write; encrypted-media; gyroscope; picture-in-picture; web-share\" allowfullscreen></iframe>')"
   ]
  },
  {
   "cell_type": "markdown",
   "id": "64d1c760",
   "metadata": {},
   "source": [
    "# 2. Installation of GitHub Desktop\n",
    "\n"
   ]
  },
  {
   "cell_type": "code",
   "execution_count": null,
   "id": "31c59429",
   "metadata": {},
   "outputs": [],
   "source": []
  },
  {
   "cell_type": "code",
   "execution_count": null,
   "id": "85e4db61",
   "metadata": {},
   "outputs": [],
   "source": []
  },
  {
   "cell_type": "code",
   "execution_count": null,
   "id": "b9e52b04",
   "metadata": {},
   "outputs": [],
   "source": []
  },
  {
   "cell_type": "code",
   "execution_count": null,
   "id": "4a94f33d",
   "metadata": {},
   "outputs": [],
   "source": []
  },
  {
   "cell_type": "markdown",
   "id": "1f4151b5",
   "metadata": {},
   "source": [
    "# 3. Setting up a project on local Repository linked to a GitHub repository."
   ]
  },
  {
   "cell_type": "code",
   "execution_count": null,
   "id": "29d0e793",
   "metadata": {},
   "outputs": [],
   "source": []
  },
  {
   "cell_type": "code",
   "execution_count": null,
   "id": "baba981f",
   "metadata": {},
   "outputs": [],
   "source": []
  },
  {
   "cell_type": "markdown",
   "id": "39a44d88",
   "metadata": {},
   "source": [
    "# 4. Foundational skills\n",
    "As a Data Mungy, who wants to layout a strong foundation in basic concepts that feeds up the network for a better understanding and be able to kick off in a Data Scientist journey when solving business problems.\n",
    "\n",
    "The following below gives the basis of python programming that suits well to business analysis roles."
   ]
  },
  {
   "cell_type": "markdown",
   "id": "bc2629e0",
   "metadata": {},
   "source": [
    "## 4.1 Python Basics"
   ]
  },
  {
   "cell_type": "markdown",
   "id": "50f58952",
   "metadata": {},
   "source": [
    "__Identifiers__"
   ]
  },
  {
   "cell_type": "markdown",
   "id": "c1783b26",
   "metadata": {},
   "source": [
    "A name given to an entity such as function, variable, class etc."
   ]
  },
  {
   "cell_type": "code",
   "execution_count": 2,
   "id": "86c77ced",
   "metadata": {},
   "outputs": [
    {
     "ename": "FileNotFoundError",
     "evalue": "[WinError 2] The system cannot find the file specified",
     "output_type": "error",
     "traceback": [
      "Traceback (most recent call last):\n  File \"C:\\Users\\Eddie\\AppData\\Local\\Programs\\Python\\Python312\\Lib\\site-packages\\powershell_kernel\\kernel.py\", line 62, in do_execute\n    self.__createProxy()\n  File \"C:\\Users\\Eddie\\AppData\\Local\\Programs\\Python\\Python312\\Lib\\site-packages\\powershell_kernel\\kernel.py\", line 51, in __createProxy\n    repl = subprocess_repl.SubprocessRepl([powershell_command, '-noninteractive', '-noprofile', '-File', '-'])\n           ^^^^^^^^^^^^^^^^^^^^^^^^^^^^^^^^^^^^^^^^^^^^^^^^^^^^^^^^^^^^^^^^^^^^^^^^^^^^^^^^^^^^^^^^^^^^^^^^^^^\n  File \"C:\\Users\\Eddie\\AppData\\Local\\Programs\\Python\\Python312\\Lib\\site-packages\\powershell_kernel\\subprocess_repl.py\", line 28, in __init__\n    self.popen = Popen(cmd, bufsize=1,\n                 ^^^^^^^^^^^^^^^^^^^^^\n  File \"C:\\Users\\Eddie\\AppData\\Local\\Programs\\Python\\Python312\\Lib\\subprocess.py\", line 1026, in __init__\n    self._execute_child(args, executable, preexec_fn, close_fds,\n  File \"C:\\Users\\Eddie\\AppData\\Local\\Programs\\Python\\Python312\\Lib\\subprocess.py\", line 1538, in _execute_child\n    hp, ht, pid, tid = _winapi.CreateProcess(executable, args,\n                       ^^^^^^^^^^^^^^^^^^^^^^^^^^^^^^^^^^^^^^^\nFileNotFoundError: [WinError 2] The system cannot find the file specified\n"
     ]
    }
   ],
   "source": [
    "1val = 10 # identifier can't start with a digit."
   ]
  },
  {
   "cell_type": "code",
   "execution_count": 3,
   "id": "51f6a1f1",
   "metadata": {},
   "outputs": [
    {
     "ename": "FileNotFoundError",
     "evalue": "[WinError 2] The system cannot find the file specified",
     "output_type": "error",
     "traceback": [
      "Traceback (most recent call last):\n  File \"C:\\Users\\Eddie\\AppData\\Local\\Programs\\Python\\Python312\\Lib\\site-packages\\powershell_kernel\\kernel.py\", line 62, in do_execute\n    self.__createProxy()\n  File \"C:\\Users\\Eddie\\AppData\\Local\\Programs\\Python\\Python312\\Lib\\site-packages\\powershell_kernel\\kernel.py\", line 51, in __createProxy\n    repl = subprocess_repl.SubprocessRepl([powershell_command, '-noninteractive', '-noprofile', '-File', '-'])\n           ^^^^^^^^^^^^^^^^^^^^^^^^^^^^^^^^^^^^^^^^^^^^^^^^^^^^^^^^^^^^^^^^^^^^^^^^^^^^^^^^^^^^^^^^^^^^^^^^^^^\n  File \"C:\\Users\\Eddie\\AppData\\Local\\Programs\\Python\\Python312\\Lib\\site-packages\\powershell_kernel\\subprocess_repl.py\", line 28, in __init__\n    self.popen = Popen(cmd, bufsize=1,\n                 ^^^^^^^^^^^^^^^^^^^^^\n  File \"C:\\Users\\Eddie\\AppData\\Local\\Programs\\Python\\Python312\\Lib\\subprocess.py\", line 1026, in __init__\n    self._execute_child(args, executable, preexec_fn, close_fds,\n  File \"C:\\Users\\Eddie\\AppData\\Local\\Programs\\Python\\Python312\\Lib\\subprocess.py\", line 1538, in _execute_child\n    hp, ht, pid, tid = _winapi.CreateProcess(executable, args,\n                       ^^^^^^^^^^^^^^^^^^^^^^^^^^^^^^^^^^^^^^^\nFileNotFoundError: [WinError 2] The system cannot find the file specified\n"
     ]
    }
   ],
   "source": [
    "val$ = 10 # identifier can't use special symbol."
   ]
  },
  {
   "cell_type": "markdown",
   "id": "dd3c9e2a",
   "metadata": {},
   "source": [
    "__Correct Identifiers__"
   ]
  },
  {
   "cell_type": "code",
   "execution_count": 1,
   "id": "ffcf8f5e",
   "metadata": {},
   "outputs": [
    {
     "ename": "FileNotFoundError",
     "evalue": "[WinError 2] The system cannot find the file specified",
     "output_type": "error",
     "traceback": [
      "Traceback (most recent call last):\n  File \"C:\\Users\\Eddie\\AppData\\Local\\Programs\\Python\\Python312\\Lib\\site-packages\\powershell_kernel\\kernel.py\", line 62, in do_execute\n    self.__createProxy()\n  File \"C:\\Users\\Eddie\\AppData\\Local\\Programs\\Python\\Python312\\Lib\\site-packages\\powershell_kernel\\kernel.py\", line 51, in __createProxy\n    repl = subprocess_repl.SubprocessRepl([powershell_command, '-noninteractive', '-noprofile', '-File', '-'])\n           ^^^^^^^^^^^^^^^^^^^^^^^^^^^^^^^^^^^^^^^^^^^^^^^^^^^^^^^^^^^^^^^^^^^^^^^^^^^^^^^^^^^^^^^^^^^^^^^^^^^\n  File \"C:\\Users\\Eddie\\AppData\\Local\\Programs\\Python\\Python312\\Lib\\site-packages\\powershell_kernel\\subprocess_repl.py\", line 28, in __init__\n    self.popen = Popen(cmd, bufsize=1,\n                 ^^^^^^^^^^^^^^^^^^^^^\n  File \"C:\\Users\\Eddie\\AppData\\Local\\Programs\\Python\\Python312\\Lib\\subprocess.py\", line 1026, in __init__\n    self._execute_child(args, executable, preexec_fn, close_fds,\n  File \"C:\\Users\\Eddie\\AppData\\Local\\Programs\\Python\\Python312\\Lib\\subprocess.py\", line 1538, in _execute_child\n    hp, ht, pid, tid = _winapi.CreateProcess(executable, args,\n                       ^^^^^^^^^^^^^^^^^^^^^^^^^^^^^^^^^^^^^^^\nFileNotFoundError: [WinError 2] The system cannot find the file specified\n"
     ]
    }
   ],
   "source": [
    "val1 = 1\n",
    "val_2 = 2\n",
    "print(val1)\n",
    "print(val_2)"
   ]
  },
  {
   "cell_type": "markdown",
   "id": "10324bca",
   "metadata": {},
   "source": [
    "__Comments in Python__\n",
    "\n",
    "It is used to explain code for readability."
   ]
  },
  {
   "cell_type": "code",
   "execution_count": null,
   "id": "29331e9a",
   "metadata": {},
   "outputs": [
    {
     "ename": "",
     "evalue": "",
     "output_type": "error",
     "traceback": [
      "\u001b[1;31mThe kernel failed to start due to the missing module 'powershell_kernel'. Consider installing this module.\n",
      "\u001b[1;31mClick <a href='https://aka.ms/kernelFailuresMissingModule'>here</a> for more info."
     ]
    }
   ],
   "source": [
    "# Single line comment\n",
    "print('A single line comment')"
   ]
  },
  {
   "cell_type": "code",
   "execution_count": 7,
   "id": "6d9f0a34",
   "metadata": {},
   "outputs": [
    {
     "name": "stdout",
     "output_type": "stream",
     "text": [
      "A Multiple line comment\n"
     ]
    }
   ],
   "source": [
    "# Multiple\n",
    "# line \n",
    "# comment\n",
    "print('A Multiple line comment')"
   ]
  },
  {
   "cell_type": "code",
   "execution_count": 8,
   "id": "6be8c0fe",
   "metadata": {},
   "outputs": [
    {
     "name": "stdout",
     "output_type": "stream",
     "text": [
      "A Multiple line comment using DocString in single quotes\n"
     ]
    }
   ],
   "source": [
    "'''\n",
    "Multiple\n",
    "line \n",
    "comment\n",
    "using\n",
    "DocString\n",
    "'''\n",
    "print('A Multiple line comment using DocString in single quotes')"
   ]
  },
  {
   "cell_type": "code",
   "execution_count": 9,
   "id": "8781cb0b",
   "metadata": {},
   "outputs": [
    {
     "name": "stdout",
     "output_type": "stream",
     "text": [
      "A Multiple line comment using DocString in double quotes\n"
     ]
    }
   ],
   "source": [
    "\"\"\"\n",
    "Multiple\n",
    "line \n",
    "comment\n",
    "using\n",
    "DocString\n",
    "\"\"\"\n",
    "print('A Multiple line comment using DocString in double quotes')"
   ]
  },
  {
   "cell_type": "markdown",
   "id": "31042496",
   "metadata": {},
   "source": [
    "__Indentation__\n",
    "\n",
    "It is the space at the start of a code line."
   ]
  },
  {
   "cell_type": "code",
   "execution_count": 10,
   "id": "9594bb69",
   "metadata": {},
   "outputs": [
    {
     "name": "stdout",
     "output_type": "stream",
     "text": [
      "25\n",
      "Correct indentation\n"
     ]
    }
   ],
   "source": [
    "x=5\n",
    "if x!=0:\n",
    "    print(x*x) # Correct indentation\n",
    "    print('Correct indentation')"
   ]
  },
  {
   "cell_type": "code",
   "execution_count": 11,
   "id": "9bfbbf7f",
   "metadata": {},
   "outputs": [
    {
     "ename": "IndentationError",
     "evalue": "expected an indented block after 'if' statement on line 2 (<ipython-input-11-c3f67bd133a1>, line 3)",
     "output_type": "error",
     "traceback": [
      "\u001b[1;36m  Cell \u001b[1;32mIn[11], line 3\u001b[1;36m\u001b[0m\n\u001b[1;33m    print(x*x) # IndentationError: expected an indented block after 'if' statement on line 2\u001b[0m\n\u001b[1;37m    ^\u001b[0m\n\u001b[1;31mIndentationError\u001b[0m\u001b[1;31m:\u001b[0m expected an indented block after 'if' statement on line 2\n"
     ]
    }
   ],
   "source": [
    "x=5\n",
    "if x!=0:\n",
    "print(x*x) # IndentationError: expected an indented block after 'if' statement on line 2"
   ]
  },
  {
   "cell_type": "markdown",
   "id": "b171bf99",
   "metadata": {},
   "source": [
    "## 4.2 Syntax and [data types](https://jakevdp.github.io/PythonDataScienceHandbook/02.01-understanding-data-types.html)"
   ]
  },
  {
   "cell_type": "markdown",
   "id": "93022584",
   "metadata": {},
   "source": [
    "**Objective:** \n",
    "- How to define variables, strings, integers, floats, boolean, lists, and dictionaries in Python. \n",
    "- Accessing and manipulation of a list and a dictionary."
   ]
  },
  {
   "cell_type": "markdown",
   "id": "631bcc17",
   "metadata": {},
   "source": [
    "### Define variables"
   ]
  },
  {
   "cell_type": "markdown",
   "id": "4077b96f",
   "metadata": {},
   "source": [
    "#### strings, integers, floats, boolean"
   ]
  },
  {
   "cell_type": "code",
   "execution_count": 42,
   "id": "381b2ac3",
   "metadata": {},
   "outputs": [
    {
     "name": "stdout",
     "output_type": "stream",
     "text": [
      "<class 'str'>\n",
      "<class 'int'>\n",
      "<class 'float'>\n",
      "<class 'bool'>\n"
     ]
    }
   ],
   "source": [
    "# Define variables\n",
    "my_string = \"Hello Python.\" # string variable\n",
    "print(type(my_string)) # check the variable type\n",
    "\n",
    "my_integer = 30 # integer variable\n",
    "print(type(my_integer)) # check the variable type\n",
    "\n",
    "my_float = 5.9  # float variable\n",
    "print(type(my_float)) # check the variable type\n",
    "\n",
    "my_boolean = True # boolean variable\n",
    "print(type(my_boolean)) # check the variable type"
   ]
  },
  {
   "cell_type": "code",
   "execution_count": 43,
   "id": "b948301a",
   "metadata": {},
   "outputs": [
    {
     "name": "stdout",
     "output_type": "stream",
     "text": [
      "1. My string is Hello World with data type <class 'str'>\n",
      "2. My integer is 45 with data type <class 'int'> \n",
      "3. My float is 2.99 with data type <class 'float'>\n"
     ]
    }
   ],
   "source": [
    "# Multiple assignments\n",
    "my_str, my_int, my_flt = 'Hello World', 45, 2.99\n",
    "print(f'1. My string is {my_str} with data type {type(my_str)}\\n\\\n",
    "2. My integer is {my_int} with data type {type(my_int)} \\n\\\n",
    "3. My float is {my_flt} with data type {type(my_flt)}')"
   ]
  },
  {
   "cell_type": "markdown",
   "id": "af2fb72d",
   "metadata": {},
   "source": [
    "#### list\n",
    "A collection of items."
   ]
  },
  {
   "cell_type": "code",
   "execution_count": 44,
   "id": "6297ce88",
   "metadata": {},
   "outputs": [],
   "source": [
    "my_list = [1, 2, 3, 4, 5]"
   ]
  },
  {
   "cell_type": "markdown",
   "id": "255ee207",
   "metadata": {},
   "source": [
    "#### dictionary\n",
    "\n",
    "A collection of key-value pairs."
   ]
  },
  {
   "cell_type": "code",
   "execution_count": 45,
   "id": "71cc2bff",
   "metadata": {},
   "outputs": [],
   "source": [
    "my_dict = {'name': 'John', 'age': 30, 'city': 'New York'}"
   ]
  },
  {
   "cell_type": "markdown",
   "id": "ebaec633",
   "metadata": {},
   "source": [
    "### Accessing and manipulating variables"
   ]
  },
  {
   "cell_type": "code",
   "execution_count": 46,
   "id": "d3ce4b5f",
   "metadata": {},
   "outputs": [
    {
     "name": "stdout",
     "output_type": "stream",
     "text": [
      "Integer: 30\n",
      "Float: 5.9\n",
      "String: Hello Python.\n",
      "List: [1, 2, 3, 4, 5]\n",
      "Dictionary: {'name': 'John', 'age': 30, 'city': 'New York'}\n"
     ]
    }
   ],
   "source": [
    "# Print variables\n",
    "print(\"Integer:\", my_integer)\n",
    "print(\"Float:\", my_float)\n",
    "print(\"String:\", my_string)\n",
    "print(\"List:\", my_list)\n",
    "print(\"Dictionary:\", my_dict)"
   ]
  },
  {
   "cell_type": "markdown",
   "id": "adc5be58",
   "metadata": {},
   "source": [
    "#### Add two integers"
   ]
  },
  {
   "cell_type": "code",
   "execution_count": 47,
   "id": "459f1a88",
   "metadata": {},
   "outputs": [
    {
     "name": "stdout",
     "output_type": "stream",
     "text": [
      "Result of addition: 40\n"
     ]
    }
   ],
   "source": [
    "result = my_integer + 10\n",
    "print(\"Result of addition:\", result)"
   ]
  },
  {
   "cell_type": "markdown",
   "id": "536d9bb4",
   "metadata": {},
   "source": [
    "#### Concatenate strings"
   ]
  },
  {
   "cell_type": "code",
   "execution_count": 48,
   "id": "d4f82a56",
   "metadata": {},
   "outputs": [
    {
     "name": "stdout",
     "output_type": "stream",
     "text": [
      "Greeting:\n",
      "Hello Python. How are you?\n"
     ]
    }
   ],
   "source": [
    "greeting = my_string + \" How are you?\"\n",
    "print(f\"Greeting:\\n{greeting}\")"
   ]
  },
  {
   "cell_type": "markdown",
   "id": "3d2145ac",
   "metadata": {},
   "source": [
    "#### Access list elements by index"
   ]
  },
  {
   "cell_type": "code",
   "execution_count": 49,
   "id": "0955bbd3",
   "metadata": {},
   "outputs": [
    {
     "name": "stdout",
     "output_type": "stream",
     "text": [
      "First element of the list: 1\n"
     ]
    }
   ],
   "source": [
    "print(\"First element of the list:\", my_list[0])"
   ]
  },
  {
   "cell_type": "markdown",
   "id": "7d2f280f",
   "metadata": {},
   "source": [
    "#### Modify list elements"
   ]
  },
  {
   "cell_type": "code",
   "execution_count": 50,
   "id": "cc3167d1",
   "metadata": {},
   "outputs": [
    {
     "name": "stdout",
     "output_type": "stream",
     "text": [
      "Modified list: [1, 20, 3, 4, 5]\n"
     ]
    }
   ],
   "source": [
    "my_list[1] = 20\n",
    "print(\"Modified list:\", my_list)"
   ]
  },
  {
   "cell_type": "markdown",
   "id": "3202014e",
   "metadata": {},
   "source": [
    "#### Access dictionary values by key"
   ]
  },
  {
   "cell_type": "code",
   "execution_count": 51,
   "id": "dcd8a7a9",
   "metadata": {},
   "outputs": [
    {
     "name": "stdout",
     "output_type": "stream",
     "text": [
      "Name: John\n",
      "Age: 30\n"
     ]
    }
   ],
   "source": [
    "print(\"Name:\", my_dict['name'])\n",
    "print(\"Age:\", my_dict['age'])"
   ]
  },
  {
   "cell_type": "code",
   "execution_count": 52,
   "id": "e87dced4",
   "metadata": {},
   "outputs": [
    {
     "data": {
      "text/plain": [
       "dict_keys(['name', 'age', 'city'])"
      ]
     },
     "execution_count": 52,
     "metadata": {},
     "output_type": "execute_result"
    }
   ],
   "source": [
    "# return the keys of a dictionary\n",
    "my_dict.keys()"
   ]
  },
  {
   "cell_type": "code",
   "execution_count": 53,
   "id": "57e3acc8",
   "metadata": {},
   "outputs": [
    {
     "data": {
      "text/plain": [
       "dict_values(['John', 30, 'New York'])"
      ]
     },
     "execution_count": 53,
     "metadata": {},
     "output_type": "execute_result"
    }
   ],
   "source": [
    "# return the values of a dictionary\n",
    "my_dict.values()"
   ]
  },
  {
   "cell_type": "markdown",
   "id": "7619e162",
   "metadata": {},
   "source": [
    "#### Modify dictionary values"
   ]
  },
  {
   "cell_type": "code",
   "execution_count": 54,
   "id": "fe2eedcb",
   "metadata": {},
   "outputs": [
    {
     "name": "stdout",
     "output_type": "stream",
     "text": [
      "Modified dictionary: {'name': 'John', 'age': 31, 'city': 'New York'}\n"
     ]
    }
   ],
   "source": [
    "my_dict['age'] = 31\n",
    "print(\"Modified dictionary:\", my_dict)"
   ]
  },
  {
   "cell_type": "markdown",
   "id": "106c2145",
   "metadata": {},
   "source": [
    "## 4.3 Control Structures  <a id='control_structures'></a>\n",
    "\n",
    "**Objective:** how to use if-else statements, loops, and functions to control the flow of code execution."
   ]
  },
  {
   "cell_type": "markdown",
   "id": "d08c4488",
   "metadata": {},
   "source": [
    "#### If-Else Statements:  <a id='if_else'></a>\n",
    "If-else statements are used to make decisions in your code based on conditions.\n",
    "\n",
    "In this example, the code checks whether the variable `num` is even or odd and prints the result accordingly."
   ]
  },
  {
   "cell_type": "code",
   "execution_count": 57,
   "id": "1e8a157c",
   "metadata": {},
   "outputs": [
    {
     "name": "stdout",
     "output_type": "stream",
     "text": [
      "10 is even.\n"
     ]
    }
   ],
   "source": [
    "# Example: Checking if a number is even or odd\n",
    "num = 10\n",
    "\n",
    "if num % 2 == 0:\n",
    "    print(f\"{num} is even.\")\n",
    "else:\n",
    "    print(f\"{num} is odd.\")"
   ]
  },
  {
   "cell_type": "markdown",
   "id": "4305bbdb",
   "metadata": {},
   "source": [
    "#### Loops (For and While):  <a id='loops'></a>\n",
    "Loops are used for repetitive tasks, allowing you to execute a block of code multiple times.\n",
    "\n",
    "This for loop iterates over a range of numbers (1 to 5) and prints them."
   ]
  },
  {
   "cell_type": "code",
   "execution_count": 58,
   "id": "f3898922",
   "metadata": {},
   "outputs": [
    {
     "name": "stdout",
     "output_type": "stream",
     "text": [
      "1\n",
      "2\n",
      "3\n",
      "4\n",
      "5\n"
     ]
    }
   ],
   "source": [
    "# Example: Printing numbers from 1 to 5 using a for loop\n",
    "for i in range(1, 6):\n",
    "    print(i)"
   ]
  },
  {
   "cell_type": "markdown",
   "id": "d6a8cf24",
   "metadata": {},
   "source": [
    "This while loop counts down from 5 to 1, printing each value."
   ]
  },
  {
   "cell_type": "code",
   "execution_count": 59,
   "id": "c024329a",
   "metadata": {},
   "outputs": [
    {
     "name": "stdout",
     "output_type": "stream",
     "text": [
      "5\n",
      "4\n",
      "3\n",
      "2\n",
      "1\n"
     ]
    }
   ],
   "source": [
    "# Example: Countdown using a while loop\n",
    "countdown = 5\n",
    "while countdown > 0:\n",
    "    print(countdown)\n",
    "    countdown -= 1"
   ]
  },
  {
   "cell_type": "markdown",
   "id": "0d394300",
   "metadata": {},
   "source": [
    "#### Functions  <a id='functions'></a>\n",
    "Functions allow you to define reusable blocks of code.\n",
    "\n",
    "In this example, a function `greet` is defined to print a greeting message, and it's called with the argument \"Alice\" to greet that specific person."
   ]
  },
  {
   "cell_type": "code",
   "execution_count": 60,
   "id": "e5a31bd8",
   "metadata": {},
   "outputs": [
    {
     "name": "stdout",
     "output_type": "stream",
     "text": [
      "Hello, Alice!\n"
     ]
    }
   ],
   "source": [
    "# Example: Define and use a simple function\n",
    "def greet(name):\n",
    "    print(f\"Hello, {name}!\")\n",
    "\n",
    "# Calling the function\n",
    "greet(\"Alice\")"
   ]
  },
  {
   "cell_type": "markdown",
   "id": "b711d68b",
   "metadata": {},
   "source": [
    "These control structures are fundamental building blocks in Python and are used to control the flow of your code, make decisions, and execute repetitive tasks."
   ]
  },
  {
   "cell_type": "markdown",
   "id": "fc812b4e",
   "metadata": {},
   "source": [
    "## 4.4 Object-oriented programming  <a id='oop'></a>"
   ]
  },
  {
   "cell_type": "markdown",
   "id": "3508c4b3",
   "metadata": {},
   "source": [
    "**Objective:** how to define classes, methods, and objects in Python."
   ]
  },
  {
   "cell_type": "markdown",
   "id": "37c76a00",
   "metadata": {},
   "source": [
    "#### Class\n",
    "**Define a Class:**\n",
    "A class is a blueprint for creating objects in Python. It defines the attributes (data members) and methods (functions) that the objects of the class will have. Here's an example of defining a simple `Person` class:"
   ]
  },
  {
   "cell_type": "code",
   "execution_count": 61,
   "id": "afa9e18e",
   "metadata": {},
   "outputs": [],
   "source": [
    "class Person:\n",
    "    \n",
    "    # create a constructor\n",
    "    def __init__(self, name, age):\n",
    "        self.name = name\n",
    "        self.age = age\n",
    "    \n",
    "    # create a method\n",
    "    def greet(self):\n",
    "        print(f\"Hello, my name is {self.name} and I am {self.age} years old.\")"
   ]
  },
  {
   "cell_type": "markdown",
   "id": "14fdcc4e",
   "metadata": {},
   "source": [
    "In the above code, we define a class `Person` with an `__init__` method (constructor) to initialize its attributes `name` and `age`.\n",
    "The `greet` method allows a `Person` object to introduce themselves."
   ]
  },
  {
   "cell_type": "markdown",
   "id": "b16aa028",
   "metadata": {},
   "source": [
    "#### Create Objects (Instances):\n",
    "Objects are instances of a class. In the code above, `person1` is an instance of the `Person` class. You can create multiple objects from the same class, each with its own set of attribute values."
   ]
  },
  {
   "cell_type": "code",
   "execution_count": 62,
   "id": "d1db594f",
   "metadata": {},
   "outputs": [],
   "source": [
    "# Create an instance (object) of the Person class\n",
    "person1 = Person(\"Alice\", 30)"
   ]
  },
  {
   "cell_type": "code",
   "execution_count": 63,
   "id": "ac392d21",
   "metadata": {},
   "outputs": [
    {
     "name": "stdout",
     "output_type": "stream",
     "text": [
      "Alice\n"
     ]
    }
   ],
   "source": [
    "# Access attributes of the object\n",
    "print(person1.name)  # Output: Alice"
   ]
  },
  {
   "cell_type": "markdown",
   "id": "12f321a5",
   "metadata": {},
   "source": [
    "#### Methods\n",
    "Methods are functions defined within a class and are used to perform actions on the class's attributes or perform specific tasks related to the class. In the example, `greet` is a method of the `Person` class, and it prints a greeting message using the object's attributes."
   ]
  },
  {
   "cell_type": "code",
   "execution_count": 64,
   "id": "700c16e3",
   "metadata": {},
   "outputs": [
    {
     "name": "stdout",
     "output_type": "stream",
     "text": [
      "Hello, my name is Alice and I am 30 years old.\n"
     ]
    }
   ],
   "source": [
    "# Call methods of the object\n",
    "person1.greet() # Output: Hello, my name is Alice and I am 30 years old."
   ]
  },
  {
   "cell_type": "markdown",
   "id": "19406db6",
   "metadata": {},
   "source": [
    "By creating classes, methods, and objects in Python, you can organize your code into reusable, structured components, which is a fundamental concept in object-oriented programming and is often used in data science for creating custom data structures and models."
   ]
  },
  {
   "cell_type": "markdown",
   "id": "1d1fb125",
   "metadata": {},
   "source": [
    "## 4.5 Data Manipulation"
   ]
  },
  {
   "cell_type": "markdown",
   "id": "832ebeae",
   "metadata": {},
   "source": [
    "### Introduction to `NumPy`  <a id='intro_to_numpy'></a>"
   ]
  },
  {
   "cell_type": "markdown",
   "id": "73765d28",
   "metadata": {},
   "source": [
    "`NumPy` is a popular Python library for numerical computations. It provides support for creating and manipulating [arrays](https://jakevdp.github.io/PythonDataScienceHandbook/02.02-the-basics-of-numpy-arrays.html), which are essential for data science and scientific computing. \n",
    "\n",
    "Here's an example code demonstrating how to create and manipulate arrays using `NumPy`:\n",
    "\n",
    "#### Import the` NumPy` library\n",
    "We import the `NumPy` library as `np`."
   ]
  },
  {
   "cell_type": "code",
   "execution_count": 65,
   "id": "47545954",
   "metadata": {},
   "outputs": [],
   "source": [
    "import numpy as np"
   ]
  },
  {
   "cell_type": "markdown",
   "id": "8409c127",
   "metadata": {},
   "source": [
    "#### Creating a NumPy array from a Python list\n",
    "We create a `NumPy` array from a Python list and perform basic mathematical operations like addition and multiplication on the array."
   ]
  },
  {
   "cell_type": "code",
   "execution_count": 66,
   "id": "81023c19",
   "metadata": {},
   "outputs": [],
   "source": [
    "my_list = [1, 2, 3, 4, 5]\n",
    "my_array = np.array(my_list)"
   ]
  },
  {
   "cell_type": "markdown",
   "id": "6426c277",
   "metadata": {},
   "source": [
    "#### Basic array operations"
   ]
  },
  {
   "cell_type": "markdown",
   "id": "32fde90c",
   "metadata": {},
   "source": [
    "##### Element-wise addition"
   ]
  },
  {
   "cell_type": "code",
   "execution_count": 67,
   "id": "634a6f7f",
   "metadata": {},
   "outputs": [
    {
     "name": "stdout",
     "output_type": "stream",
     "text": [
      "Array after addition: [11 12 13 14 15]\n"
     ]
    }
   ],
   "source": [
    "result = my_array + 10\n",
    "print(\"Array after addition:\", result)"
   ]
  },
  {
   "cell_type": "markdown",
   "id": "d60e10c1",
   "metadata": {},
   "source": [
    "##### Element-wise multiplication"
   ]
  },
  {
   "cell_type": "code",
   "execution_count": 68,
   "id": "85cb821a",
   "metadata": {},
   "outputs": [
    {
     "name": "stdout",
     "output_type": "stream",
     "text": [
      "Array after multiplication: [ 2  4  6  8 10]\n"
     ]
    }
   ],
   "source": [
    "result = my_array * 2\n",
    "print(\"Array after multiplication:\", result)"
   ]
  },
  {
   "cell_type": "markdown",
   "id": "7909c0a1",
   "metadata": {},
   "source": [
    "##### Finding the mean and sum of the array\n",
    "We calculate the mean and sum of the array elements."
   ]
  },
  {
   "cell_type": "code",
   "execution_count": 69,
   "id": "cea50416",
   "metadata": {},
   "outputs": [
    {
     "name": "stdout",
     "output_type": "stream",
     "text": [
      "Mean: 3.0\n",
      "Sum: 15\n"
     ]
    }
   ],
   "source": [
    "mean_value = np.mean(my_array)\n",
    "sum_value = np.sum(my_array)\n",
    "print(\"Mean:\", mean_value)\n",
    "print(\"Sum:\", sum_value)"
   ]
  },
  {
   "cell_type": "markdown",
   "id": "d679dfe6",
   "metadata": {},
   "source": [
    "##### Creating a 2D array (matrix)\n",
    "We create a 2D array (matrix) and perform matrix multiplication using the `np.dot` function."
   ]
  },
  {
   "cell_type": "code",
   "execution_count": 70,
   "id": "f4676b48",
   "metadata": {},
   "outputs": [
    {
     "name": "stdout",
     "output_type": "stream",
     "text": [
      "2D Array (Matrix):\n",
      " [[1 2 3]\n",
      " [4 5 6]\n",
      " [7 8 9]]\n"
     ]
    }
   ],
   "source": [
    "matrix = np.array([[1, 2, 3], [4, 5, 6], [7, 8, 9]])\n",
    "print(\"2D Array (Matrix):\\n\", matrix)"
   ]
  },
  {
   "cell_type": "markdown",
   "id": "4f2d569a",
   "metadata": {},
   "source": [
    "##### Matrix multiplication"
   ]
  },
  {
   "cell_type": "code",
   "execution_count": 71,
   "id": "50c32a94",
   "metadata": {},
   "outputs": [
    {
     "name": "stdout",
     "output_type": "stream",
     "text": [
      "Matrix Multiplication Result:\n",
      " [[1. 2. 3.]\n",
      " [4. 5. 6.]\n",
      " [7. 8. 9.]]\n"
     ]
    }
   ],
   "source": [
    "identity_matrix = np.eye(3)  # 3x3 identity matrix\n",
    "product = np.dot(matrix, identity_matrix)\n",
    "print(\"Matrix Multiplication Result:\\n\", product)"
   ]
  },
  {
   "cell_type": "markdown",
   "id": "b8ae152b",
   "metadata": {},
   "source": [
    "`NumPy` is a fundamental library for data manipulation in Python and is widely used in data science and scientific computing."
   ]
  },
  {
   "cell_type": "markdown",
   "id": "c381025f",
   "metadata": {},
   "source": [
    "### Introduction to `Pandas` <a id='introduction_to_pandas'></a>\n",
    "Below are examples of Pandas code for various data manipulation tasks, including reading, writing, and preprocessing data in different formats.\n",
    "\n",
    "You can create a DataFrame and Series from a Python dictionary, where keys represent column names and values are lists of data for each column."
   ]
  },
  {
   "cell_type": "code",
   "execution_count": 72,
   "id": "1f6c8b43",
   "metadata": {},
   "outputs": [],
   "source": [
    "# Tables formatting\n",
    "# import great_tables as gt\n",
    "# from great_tables import *"
   ]
  },
  {
   "cell_type": "markdown",
   "id": "c2843b57",
   "metadata": {},
   "source": [
    "#### Creating a Pandas Series  <a id='create_series'></a>"
   ]
  },
  {
   "cell_type": "code",
   "execution_count": 73,
   "id": "fa42c6d6",
   "metadata": {},
   "outputs": [
    {
     "data": {
      "text/plain": [
       "California    38332521\n",
       "Texas         26448193\n",
       "New York      19651127\n",
       "Florida       19552860\n",
       "Illinois      12882135\n",
       "dtype: int64"
      ]
     },
     "execution_count": 73,
     "metadata": {},
     "output_type": "execute_result"
    }
   ],
   "source": [
    "# !pip install pandas\n",
    "import pandas as pd\n",
    "\n",
    "my_dict1 = {\n",
    "    'California': 38332521,\n",
    "    'Texas': 26448193,\n",
    "    'New York': 19651127,\n",
    "    'Florida': 19552860,\n",
    "    'Illinois': 12882135\n",
    "}\n",
    "\n",
    "my_series = pd.Series(my_dict1)\n",
    "my_series"
   ]
  },
  {
   "cell_type": "code",
   "execution_count": 74,
   "id": "b5e38255",
   "metadata": {},
   "outputs": [
    {
     "data": {
      "text/plain": [
       "Index(['California', 'Texas', 'New York', 'Florida', 'Illinois'], dtype='object')"
      ]
     },
     "execution_count": 74,
     "metadata": {},
     "output_type": "execute_result"
    }
   ],
   "source": [
    "# print index of the series\n",
    "my_series.index"
   ]
  },
  {
   "cell_type": "code",
   "execution_count": 75,
   "id": "1ba5025c",
   "metadata": {},
   "outputs": [
    {
     "data": {
      "text/plain": [
       "array([38332521, 26448193, 19651127, 19552860, 12882135], dtype=int64)"
      ]
     },
     "execution_count": 75,
     "metadata": {},
     "output_type": "execute_result"
    }
   ],
   "source": [
    "# print values of the series\n",
    "my_series.values"
   ]
  },
  {
   "cell_type": "markdown",
   "id": "ea5ebb3e",
   "metadata": {},
   "source": [
    "#### Creating a DataFrame  <a id='create_dataframe'></a>"
   ]
  },
  {
   "cell_type": "code",
   "execution_count": 76,
   "id": "ae5ee609",
   "metadata": {},
   "outputs": [],
   "source": [
    "data = {\n",
    "    'Name': ['Alice', 'Bob', 'Charlie'],\n",
    "    'Age': [25, 30, 35],\n",
    "    'Height': [164, 145, np.nan]\n",
    "       }\n",
    "\n",
    "df = pd.DataFrame(data)"
   ]
  },
  {
   "cell_type": "code",
   "execution_count": 77,
   "id": "514bd28b",
   "metadata": {},
   "outputs": [
    {
     "data": {
      "text/html": [
       "<div>\n",
       "<style scoped>\n",
       "    .dataframe tbody tr th:only-of-type {\n",
       "        vertical-align: middle;\n",
       "    }\n",
       "\n",
       "    .dataframe tbody tr th {\n",
       "        vertical-align: top;\n",
       "    }\n",
       "\n",
       "    .dataframe thead th {\n",
       "        text-align: right;\n",
       "    }\n",
       "</style>\n",
       "<table border=\"1\" class=\"dataframe\">\n",
       "  <thead>\n",
       "    <tr style=\"text-align: right;\">\n",
       "      <th></th>\n",
       "      <th>Name</th>\n",
       "      <th>Age</th>\n",
       "      <th>Height</th>\n",
       "    </tr>\n",
       "  </thead>\n",
       "  <tbody>\n",
       "    <tr>\n",
       "      <th>0</th>\n",
       "      <td>Alice</td>\n",
       "      <td>25</td>\n",
       "      <td>164.0</td>\n",
       "    </tr>\n",
       "    <tr>\n",
       "      <th>1</th>\n",
       "      <td>Bob</td>\n",
       "      <td>30</td>\n",
       "      <td>145.0</td>\n",
       "    </tr>\n",
       "    <tr>\n",
       "      <th>2</th>\n",
       "      <td>Charlie</td>\n",
       "      <td>35</td>\n",
       "      <td>NaN</td>\n",
       "    </tr>\n",
       "  </tbody>\n",
       "</table>\n",
       "</div>"
      ],
      "text/plain": [
       "      Name  Age  Height\n",
       "0    Alice   25   164.0\n",
       "1      Bob   30   145.0\n",
       "2  Charlie   35     NaN"
      ]
     },
     "execution_count": 77,
     "metadata": {},
     "output_type": "execute_result"
    }
   ],
   "source": [
    "# View dataframe\n",
    "df.head()"
   ]
  },
  {
   "cell_type": "code",
   "execution_count": 78,
   "id": "2e911b3e",
   "metadata": {},
   "outputs": [
    {
     "name": "stdout",
     "output_type": "stream",
     "text": [
      "<class 'pandas.core.frame.DataFrame'>\n",
      "RangeIndex: 3 entries, 0 to 2\n",
      "Data columns (total 3 columns):\n",
      " #   Column  Non-Null Count  Dtype  \n",
      "---  ------  --------------  -----  \n",
      " 0   Name    3 non-null      object \n",
      " 1   Age     3 non-null      int64  \n",
      " 2   Height  2 non-null      float64\n",
      "dtypes: float64(1), int64(1), object(1)\n",
      "memory usage: 204.0+ bytes\n",
      "None\n"
     ]
    }
   ],
   "source": [
    "# data profiling\n",
    "print(df.info())"
   ]
  },
  {
   "cell_type": "markdown",
   "id": "f6772dff",
   "metadata": {},
   "source": [
    "#### Writing data  <a id='write_data'></a>\n",
    "To write data back to different formats:"
   ]
  },
  {
   "cell_type": "code",
   "execution_count": 79,
   "id": "8a2ef345",
   "metadata": {},
   "outputs": [],
   "source": [
    "# Writing to CSV\n",
    "df.to_csv('new_data.csv', index=False)"
   ]
  },
  {
   "cell_type": "code",
   "execution_count": 80,
   "id": "e081f8db",
   "metadata": {},
   "outputs": [],
   "source": [
    "# Writing to excel\n",
    "df.to_excel('new_data.xlsx', sheet_name='Sheet1', index=False)"
   ]
  },
  {
   "cell_type": "markdown",
   "id": "395d0858",
   "metadata": {},
   "source": [
    "You can use `:memory:` to open a database connection to a database that resides\n",
    "in RAM instead of on disk."
   ]
  },
  {
   "cell_type": "code",
   "execution_count": 81,
   "id": "9d9c57e0",
   "metadata": {},
   "outputs": [
    {
     "data": {
      "text/plain": [
       "3"
      ]
     },
     "execution_count": 81,
     "metadata": {},
     "output_type": "execute_result"
    }
   ],
   "source": [
    "import sqlite3\n",
    "\n",
    "# Create a connection\n",
    "conn = sqlite3.connect(':memory:')\n",
    "\n",
    "# Writing to sql database\n",
    "df.to_sql(name='data', con=conn)"
   ]
  },
  {
   "cell_type": "markdown",
   "id": "8d2069c2",
   "metadata": {},
   "source": [
    "#### Reading Data <a id='read_data'></a>\n",
    "To read data from different formats like CSV, Excel, and SQL databases:\n",
    "\n",
    "**CSV**"
   ]
  },
  {
   "cell_type": "code",
   "execution_count": 82,
   "id": "9d357620",
   "metadata": {},
   "outputs": [
    {
     "data": {
      "text/html": [
       "<div>\n",
       "<style scoped>\n",
       "    .dataframe tbody tr th:only-of-type {\n",
       "        vertical-align: middle;\n",
       "    }\n",
       "\n",
       "    .dataframe tbody tr th {\n",
       "        vertical-align: top;\n",
       "    }\n",
       "\n",
       "    .dataframe thead th {\n",
       "        text-align: right;\n",
       "    }\n",
       "</style>\n",
       "<table border=\"1\" class=\"dataframe\">\n",
       "  <thead>\n",
       "    <tr style=\"text-align: right;\">\n",
       "      <th></th>\n",
       "      <th>Name</th>\n",
       "      <th>Age</th>\n",
       "      <th>Height</th>\n",
       "    </tr>\n",
       "  </thead>\n",
       "  <tbody>\n",
       "    <tr>\n",
       "      <th>0</th>\n",
       "      <td>Alice</td>\n",
       "      <td>25</td>\n",
       "      <td>164.0</td>\n",
       "    </tr>\n",
       "    <tr>\n",
       "      <th>1</th>\n",
       "      <td>Bob</td>\n",
       "      <td>30</td>\n",
       "      <td>145.0</td>\n",
       "    </tr>\n",
       "    <tr>\n",
       "      <th>2</th>\n",
       "      <td>Charlie</td>\n",
       "      <td>35</td>\n",
       "      <td>NaN</td>\n",
       "    </tr>\n",
       "  </tbody>\n",
       "</table>\n",
       "</div>"
      ],
      "text/plain": [
       "      Name  Age  Height\n",
       "0    Alice   25   164.0\n",
       "1      Bob   30   145.0\n",
       "2  Charlie   35     NaN"
      ]
     },
     "execution_count": 82,
     "metadata": {},
     "output_type": "execute_result"
    }
   ],
   "source": [
    "# From CSV\n",
    "df_csv = pd.read_csv('new_data.csv')\n",
    "df_csv"
   ]
  },
  {
   "cell_type": "markdown",
   "id": "1d6a70eb",
   "metadata": {},
   "source": [
    "**Excel**"
   ]
  },
  {
   "cell_type": "code",
   "execution_count": 83,
   "id": "636c1bf2",
   "metadata": {},
   "outputs": [
    {
     "data": {
      "text/html": [
       "<div>\n",
       "<style scoped>\n",
       "    .dataframe tbody tr th:only-of-type {\n",
       "        vertical-align: middle;\n",
       "    }\n",
       "\n",
       "    .dataframe tbody tr th {\n",
       "        vertical-align: top;\n",
       "    }\n",
       "\n",
       "    .dataframe thead th {\n",
       "        text-align: right;\n",
       "    }\n",
       "</style>\n",
       "<table border=\"1\" class=\"dataframe\">\n",
       "  <thead>\n",
       "    <tr style=\"text-align: right;\">\n",
       "      <th></th>\n",
       "      <th>Name</th>\n",
       "      <th>Age</th>\n",
       "      <th>Height</th>\n",
       "    </tr>\n",
       "  </thead>\n",
       "  <tbody>\n",
       "    <tr>\n",
       "      <th>0</th>\n",
       "      <td>Alice</td>\n",
       "      <td>25</td>\n",
       "      <td>164.0</td>\n",
       "    </tr>\n",
       "    <tr>\n",
       "      <th>1</th>\n",
       "      <td>Bob</td>\n",
       "      <td>30</td>\n",
       "      <td>145.0</td>\n",
       "    </tr>\n",
       "    <tr>\n",
       "      <th>2</th>\n",
       "      <td>Charlie</td>\n",
       "      <td>35</td>\n",
       "      <td>NaN</td>\n",
       "    </tr>\n",
       "  </tbody>\n",
       "</table>\n",
       "</div>"
      ],
      "text/plain": [
       "      Name  Age  Height\n",
       "0    Alice   25   164.0\n",
       "1      Bob   30   145.0\n",
       "2  Charlie   35     NaN"
      ]
     },
     "execution_count": 83,
     "metadata": {},
     "output_type": "execute_result"
    }
   ],
   "source": [
    "# From Excel\n",
    "df_excel = pd.read_excel('new_data.xlsx', sheet_name='Sheet1')\n",
    "df_excel"
   ]
  },
  {
   "cell_type": "markdown",
   "id": "ea51aa10",
   "metadata": {},
   "source": [
    "**SQL**"
   ]
  },
  {
   "cell_type": "markdown",
   "id": "64f4f00f",
   "metadata": {},
   "source": [
    "Read data from SQL via either a SQL query or a SQL tablename.\n",
    "When using a `SQLite` database only SQL queries are accepted,\n",
    "providing only the SQL tablename will result in an error."
   ]
  },
  {
   "cell_type": "code",
   "execution_count": 84,
   "id": "90f8b0a7",
   "metadata": {},
   "outputs": [
    {
     "data": {
      "text/html": [
       "<div>\n",
       "<style scoped>\n",
       "    .dataframe tbody tr th:only-of-type {\n",
       "        vertical-align: middle;\n",
       "    }\n",
       "\n",
       "    .dataframe tbody tr th {\n",
       "        vertical-align: top;\n",
       "    }\n",
       "\n",
       "    .dataframe thead th {\n",
       "        text-align: right;\n",
       "    }\n",
       "</style>\n",
       "<table border=\"1\" class=\"dataframe\">\n",
       "  <thead>\n",
       "    <tr style=\"text-align: right;\">\n",
       "      <th></th>\n",
       "      <th>Name</th>\n",
       "      <th>Age</th>\n",
       "    </tr>\n",
       "  </thead>\n",
       "  <tbody>\n",
       "    <tr>\n",
       "      <th>0</th>\n",
       "      <td>Bob</td>\n",
       "      <td>30</td>\n",
       "    </tr>\n",
       "    <tr>\n",
       "      <th>1</th>\n",
       "      <td>Charlie</td>\n",
       "      <td>35</td>\n",
       "    </tr>\n",
       "  </tbody>\n",
       "</table>\n",
       "</div>"
      ],
      "text/plain": [
       "      Name  Age\n",
       "0      Bob   30\n",
       "1  Charlie   35"
      ]
     },
     "execution_count": 84,
     "metadata": {},
     "output_type": "execute_result"
    }
   ],
   "source": [
    "# From SQL database\n",
    "query = '''\n",
    "SELECT Name, Age \n",
    "FROM data\n",
    "WHERE Age>=30\n",
    "'''\n",
    "pd.read_sql(\n",
    "    sql=query, \n",
    "    con=conn\n",
    ")"
   ]
  },
  {
   "cell_type": "markdown",
   "id": "a3cb2b58",
   "metadata": {},
   "source": [
    "#### Data Manipulation\n",
    "You can perform various [data manipulation](https://jakevdp.github.io/PythonDataScienceHandbook/03.00-introduction-to-pandas.html) operations, like selecting columns, filtering rows, and applying functions to columns.\n",
    "\n",
    "**Filter by column**"
   ]
  },
  {
   "cell_type": "code",
   "execution_count": 85,
   "id": "090286ac",
   "metadata": {},
   "outputs": [
    {
     "data": {
      "text/html": [
       "<div>\n",
       "<style scoped>\n",
       "    .dataframe tbody tr th:only-of-type {\n",
       "        vertical-align: middle;\n",
       "    }\n",
       "\n",
       "    .dataframe tbody tr th {\n",
       "        vertical-align: top;\n",
       "    }\n",
       "\n",
       "    .dataframe thead th {\n",
       "        text-align: right;\n",
       "    }\n",
       "</style>\n",
       "<table border=\"1\" class=\"dataframe\">\n",
       "  <thead>\n",
       "    <tr style=\"text-align: right;\">\n",
       "      <th></th>\n",
       "      <th>Name</th>\n",
       "      <th>Age</th>\n",
       "    </tr>\n",
       "  </thead>\n",
       "  <tbody>\n",
       "    <tr>\n",
       "      <th>0</th>\n",
       "      <td>Alice</td>\n",
       "      <td>25</td>\n",
       "    </tr>\n",
       "    <tr>\n",
       "      <th>1</th>\n",
       "      <td>Bob</td>\n",
       "      <td>30</td>\n",
       "    </tr>\n",
       "    <tr>\n",
       "      <th>2</th>\n",
       "      <td>Charlie</td>\n",
       "      <td>35</td>\n",
       "    </tr>\n",
       "  </tbody>\n",
       "</table>\n",
       "</div>"
      ],
      "text/plain": [
       "      Name  Age\n",
       "0    Alice   25\n",
       "1      Bob   30\n",
       "2  Charlie   35"
      ]
     },
     "execution_count": 85,
     "metadata": {},
     "output_type": "execute_result"
    }
   ],
   "source": [
    "# Selecting Columns\n",
    "selected_columns = df[['Name', 'Age']]\n",
    "selected_columns"
   ]
  },
  {
   "cell_type": "markdown",
   "id": "50b769d7",
   "metadata": {},
   "source": [
    "**Filter by row**"
   ]
  },
  {
   "cell_type": "code",
   "execution_count": 86,
   "id": "8c21cb75",
   "metadata": {},
   "outputs": [
    {
     "data": {
      "text/html": [
       "<div>\n",
       "<style scoped>\n",
       "    .dataframe tbody tr th:only-of-type {\n",
       "        vertical-align: middle;\n",
       "    }\n",
       "\n",
       "    .dataframe tbody tr th {\n",
       "        vertical-align: top;\n",
       "    }\n",
       "\n",
       "    .dataframe thead th {\n",
       "        text-align: right;\n",
       "    }\n",
       "</style>\n",
       "<table border=\"1\" class=\"dataframe\">\n",
       "  <thead>\n",
       "    <tr style=\"text-align: right;\">\n",
       "      <th></th>\n",
       "      <th>Name</th>\n",
       "      <th>Age</th>\n",
       "      <th>Height</th>\n",
       "    </tr>\n",
       "  </thead>\n",
       "  <tbody>\n",
       "    <tr>\n",
       "      <th>0</th>\n",
       "      <td>Alice</td>\n",
       "      <td>25</td>\n",
       "      <td>164.0</td>\n",
       "    </tr>\n",
       "  </tbody>\n",
       "</table>\n",
       "</div>"
      ],
      "text/plain": [
       "    Name  Age  Height\n",
       "0  Alice   25   164.0"
      ]
     },
     "execution_count": 86,
     "metadata": {},
     "output_type": "execute_result"
    }
   ],
   "source": [
    "# Filtering Rows\n",
    "filtered_data = df[df['Age'] < 30]\n",
    "filtered_data"
   ]
  },
  {
   "cell_type": "markdown",
   "id": "53fb5f8f",
   "metadata": {},
   "source": [
    "**Use of Lambda function**"
   ]
  },
  {
   "cell_type": "code",
   "execution_count": 87,
   "id": "9fdd5355",
   "metadata": {},
   "outputs": [
    {
     "data": {
      "text/html": [
       "<div>\n",
       "<style scoped>\n",
       "    .dataframe tbody tr th:only-of-type {\n",
       "        vertical-align: middle;\n",
       "    }\n",
       "\n",
       "    .dataframe tbody tr th {\n",
       "        vertical-align: top;\n",
       "    }\n",
       "\n",
       "    .dataframe thead th {\n",
       "        text-align: right;\n",
       "    }\n",
       "</style>\n",
       "<table border=\"1\" class=\"dataframe\">\n",
       "  <thead>\n",
       "    <tr style=\"text-align: right;\">\n",
       "      <th></th>\n",
       "      <th>Name</th>\n",
       "      <th>Age</th>\n",
       "      <th>Height</th>\n",
       "    </tr>\n",
       "  </thead>\n",
       "  <tbody>\n",
       "    <tr>\n",
       "      <th>0</th>\n",
       "      <td>Alice</td>\n",
       "      <td>26</td>\n",
       "      <td>164.0</td>\n",
       "    </tr>\n",
       "    <tr>\n",
       "      <th>1</th>\n",
       "      <td>Bob</td>\n",
       "      <td>31</td>\n",
       "      <td>145.0</td>\n",
       "    </tr>\n",
       "    <tr>\n",
       "      <th>2</th>\n",
       "      <td>Charlie</td>\n",
       "      <td>36</td>\n",
       "      <td>NaN</td>\n",
       "    </tr>\n",
       "  </tbody>\n",
       "</table>\n",
       "</div>"
      ],
      "text/plain": [
       "      Name  Age  Height\n",
       "0    Alice   26   164.0\n",
       "1      Bob   31   145.0\n",
       "2  Charlie   36     NaN"
      ]
     },
     "execution_count": 87,
     "metadata": {},
     "output_type": "execute_result"
    }
   ],
   "source": [
    "# Apply Lambda function\n",
    "df['Age'] = df['Age'].apply(lambda x: x + 1)\n",
    "df"
   ]
  },
  {
   "cell_type": "code",
   "execution_count": 88,
   "id": "9f9cf913",
   "metadata": {},
   "outputs": [
    {
     "data": {
      "text/html": [
       "<div>\n",
       "<style scoped>\n",
       "    .dataframe tbody tr th:only-of-type {\n",
       "        vertical-align: middle;\n",
       "    }\n",
       "\n",
       "    .dataframe tbody tr th {\n",
       "        vertical-align: top;\n",
       "    }\n",
       "\n",
       "    .dataframe thead th {\n",
       "        text-align: right;\n",
       "    }\n",
       "</style>\n",
       "<table border=\"1\" class=\"dataframe\">\n",
       "  <thead>\n",
       "    <tr style=\"text-align: right;\">\n",
       "      <th></th>\n",
       "      <th>Name</th>\n",
       "      <th>Age</th>\n",
       "      <th>Height</th>\n",
       "      <th>Date</th>\n",
       "    </tr>\n",
       "  </thead>\n",
       "  <tbody>\n",
       "    <tr>\n",
       "      <th>0</th>\n",
       "      <td>Alice</td>\n",
       "      <td>26</td>\n",
       "      <td>164.0</td>\n",
       "      <td>1970-01-01 00:00:00.000000026</td>\n",
       "    </tr>\n",
       "    <tr>\n",
       "      <th>1</th>\n",
       "      <td>Bob</td>\n",
       "      <td>31</td>\n",
       "      <td>145.0</td>\n",
       "      <td>1970-01-01 00:00:00.000000031</td>\n",
       "    </tr>\n",
       "    <tr>\n",
       "      <th>2</th>\n",
       "      <td>Charlie</td>\n",
       "      <td>36</td>\n",
       "      <td>NaN</td>\n",
       "      <td>1970-01-01 00:00:00.000000036</td>\n",
       "    </tr>\n",
       "  </tbody>\n",
       "</table>\n",
       "</div>"
      ],
      "text/plain": [
       "      Name  Age  Height                          Date\n",
       "0    Alice   26   164.0 1970-01-01 00:00:00.000000026\n",
       "1      Bob   31   145.0 1970-01-01 00:00:00.000000031\n",
       "2  Charlie   36     NaN 1970-01-01 00:00:00.000000036"
      ]
     },
     "execution_count": 88,
     "metadata": {},
     "output_type": "execute_result"
    }
   ],
   "source": [
    "df.assign(\n",
    "    Date = lambda x: pd.to_datetime(x['Age'])\n",
    ")"
   ]
  },
  {
   "cell_type": "code",
   "execution_count": 89,
   "id": "30e13352",
   "metadata": {},
   "outputs": [
    {
     "data": {
      "text/plain": [
       "31.0"
      ]
     },
     "execution_count": 89,
     "metadata": {},
     "output_type": "execute_result"
    }
   ],
   "source": [
    "# Calculate the mean age\n",
    "mean_age = df['Age'].mean()\n",
    "mean_age"
   ]
  },
  {
   "cell_type": "markdown",
   "id": "2acb83b8",
   "metadata": {},
   "source": [
    "**Indexing Series**"
   ]
  },
  {
   "cell_type": "code",
   "execution_count": 90,
   "id": "fbc91b21",
   "metadata": {},
   "outputs": [
    {
     "data": {
      "text/plain": [
       "38332521"
      ]
     },
     "execution_count": 90,
     "metadata": {},
     "output_type": "execute_result"
    }
   ],
   "source": [
    "# 1. Indexing a Series\n",
    "my_series['California']"
   ]
  },
  {
   "cell_type": "code",
   "execution_count": 91,
   "id": "657c12bc",
   "metadata": {},
   "outputs": [
    {
     "data": {
      "text/plain": [
       "California    38332521\n",
       "Texas         26448193\n",
       "New York      19651127\n",
       "Florida       19552860\n",
       "dtype: int64"
      ]
     },
     "execution_count": 91,
     "metadata": {},
     "output_type": "execute_result"
    }
   ],
   "source": [
    "# 2. Indexing a Series\n",
    "my_series['California':'Florida']"
   ]
  },
  {
   "cell_type": "markdown",
   "id": "9ee0d7b9",
   "metadata": {},
   "source": [
    "#### Data Cleaning and Preprocessing\n",
    "Cleaning and preprocessing often involve [handling missing values](https://jakevdp.github.io/PythonDataScienceHandbook/03.04-missing-values.html) and data type conversions."
   ]
  },
  {
   "cell_type": "code",
   "execution_count": 96,
   "id": "3a098a4b",
   "metadata": {},
   "outputs": [
    {
     "data": {
      "text/html": [
       "<div>\n",
       "<style scoped>\n",
       "    .dataframe tbody tr th:only-of-type {\n",
       "        vertical-align: middle;\n",
       "    }\n",
       "\n",
       "    .dataframe tbody tr th {\n",
       "        vertical-align: top;\n",
       "    }\n",
       "\n",
       "    .dataframe thead th {\n",
       "        text-align: right;\n",
       "    }\n",
       "</style>\n",
       "<table border=\"1\" class=\"dataframe\">\n",
       "  <thead>\n",
       "    <tr style=\"text-align: right;\">\n",
       "      <th></th>\n",
       "      <th>Name</th>\n",
       "      <th>Age</th>\n",
       "      <th>Height</th>\n",
       "    </tr>\n",
       "  </thead>\n",
       "  <tbody>\n",
       "    <tr>\n",
       "      <th>0</th>\n",
       "      <td>Alice</td>\n",
       "      <td>26</td>\n",
       "      <td>164.0</td>\n",
       "    </tr>\n",
       "    <tr>\n",
       "      <th>1</th>\n",
       "      <td>Bob</td>\n",
       "      <td>31</td>\n",
       "      <td>145.0</td>\n",
       "    </tr>\n",
       "    <tr>\n",
       "      <th>2</th>\n",
       "      <td>Charlie</td>\n",
       "      <td>36</td>\n",
       "      <td>154.5</td>\n",
       "    </tr>\n",
       "  </tbody>\n",
       "</table>\n",
       "</div>"
      ],
      "text/plain": [
       "      Name  Age  Height\n",
       "0    Alice   26   164.0\n",
       "1      Bob   31   145.0\n",
       "2  Charlie   36   154.5"
      ]
     },
     "execution_count": 96,
     "metadata": {},
     "output_type": "execute_result"
    }
   ],
   "source": [
    "# Handling Missing Values (e.g., filling with mean)\n",
    "df['Height'].fillna(value=0, inplace=True)\n",
    "df"
   ]
  },
  {
   "cell_type": "code",
   "execution_count": 97,
   "id": "996db5d0",
   "metadata": {},
   "outputs": [
    {
     "name": "stdout",
     "output_type": "stream",
     "text": [
      "<class 'pandas.core.frame.DataFrame'>\n",
      "RangeIndex: 3 entries, 0 to 2\n",
      "Data columns (total 3 columns):\n",
      " #   Column  Non-Null Count  Dtype  \n",
      "---  ------  --------------  -----  \n",
      " 0   Name    3 non-null      object \n",
      " 1   Age     3 non-null      int32  \n",
      " 2   Height  3 non-null      float64\n",
      "dtypes: float64(1), int32(1), object(1)\n",
      "memory usage: 192.0+ bytes\n"
     ]
    }
   ],
   "source": [
    "# Data Type Conversion (e.g., changing age to integer)\n",
    "df['Age'] = df['Age'].astype(int)\n",
    "\n",
    "df.info()"
   ]
  },
  {
   "cell_type": "markdown",
   "id": "aeaf9e01",
   "metadata": {},
   "source": [
    "These are some basic examples of common data manipulation and preprocessing tasks using Pandas in Python. Pandas provides extensive functionality for data analysis and manipulation, making it a powerful tool for data scientists."
   ]
  },
  {
   "cell_type": "markdown",
   "id": "dad4d41a",
   "metadata": {},
   "source": [
    "## 4.6 Data Visualization"
   ]
  },
  {
   "cell_type": "markdown",
   "id": "c4e298c4",
   "metadata": {},
   "source": [
    "**pandas**"
   ]
  },
  {
   "cell_type": "code",
   "execution_count": null,
   "id": "6402fe80",
   "metadata": {},
   "outputs": [],
   "source": []
  },
  {
   "cell_type": "markdown",
   "id": "744f2654",
   "metadata": {},
   "source": [
    "**seaborn**"
   ]
  },
  {
   "cell_type": "code",
   "execution_count": null,
   "id": "a81ea336",
   "metadata": {},
   "outputs": [],
   "source": []
  },
  {
   "cell_type": "markdown",
   "id": "f9663c23",
   "metadata": {},
   "source": [
    "**Matplotlib**"
   ]
  },
  {
   "cell_type": "code",
   "execution_count": null,
   "id": "1222864a",
   "metadata": {},
   "outputs": [],
   "source": []
  },
  {
   "cell_type": "markdown",
   "id": "12fc21c1",
   "metadata": {},
   "source": [
    "**plotly**"
   ]
  },
  {
   "cell_type": "code",
   "execution_count": null,
   "id": "c92b825c",
   "metadata": {},
   "outputs": [],
   "source": []
  },
  {
   "cell_type": "markdown",
   "id": "a94c9dc9",
   "metadata": {},
   "source": [
    "## 4.7 Machine Learning Foundation"
   ]
  },
  {
   "cell_type": "markdown",
   "id": "f432146f",
   "metadata": {},
   "source": [
    "### Introduction to Scikit-learn\n",
    "\n",
    "**Objective:** \n",
    "Understand the difference between `regression` and `classification`, and how to use `Scikit-learn` to implement basic supervised learning algorithms such as linear regression and logistic regression.\n",
    "\n",
    "**Supervised learning:** \n",
    "It is a type of machine learning where the algorithm learns from labeled training data to make predictions or decisions without human intervention. \n",
    "\n",
    "It involves two main types: `classification` (predicting categories or labels) and `regression` (predicting numerical values). In this example, we'll focus on regression, specifically linear regression.\n",
    "\n",
    "### Regression\n",
    "\n",
    "\n",
    "**Linear Regression with Scikit-Learn**\n",
    "\n",
    "Linear regression is a supervised learning algorithm used for predicting a continuous numerical output (dependent variable) based on one or more input features (independent variables) with a linear relationship. `Scikit-Learn` is a popular Python library for machine learning, including regression tasks.\n",
    "\n",
    "Here's an example code using `Scikit-Learn` to implement basic linear regression:"
   ]
  },
  {
   "cell_type": "markdown",
   "id": "b0a65ef4",
   "metadata": {},
   "source": [
    "**We import the necessary libraries, including NumPy for data manipulation and Matplotlib for visualization.**"
   ]
  },
  {
   "cell_type": "markdown",
   "id": "ab1f72c9",
   "metadata": {},
   "source": [
    "The code below demonstrates the basic implementation of linear regression for supervised learning using Scikit-Learn."
   ]
  },
  {
   "cell_type": "code",
   "execution_count": 3,
   "id": "616e151a",
   "metadata": {},
   "outputs": [],
   "source": [
    "# Import necessary libraries\n",
    "import numpy as np\n",
    "import matplotlib.pyplot as plt\n",
    "from sklearn.linear_model import LinearRegression\n",
    "from sklearn.model_selection import train_test_split\n",
    "from sklearn.metrics import mean_squared_error, r2_score"
   ]
  },
  {
   "cell_type": "markdown",
   "id": "60a7f96b",
   "metadata": {},
   "source": [
    "**We generate synthetic data with a linear relationship and some random noise.**"
   ]
  },
  {
   "cell_type": "code",
   "execution_count": 4,
   "id": "da804d45",
   "metadata": {},
   "outputs": [],
   "source": [
    "# Generate some sample data\n",
    "np.random.seed(0)\n",
    "X = np.random.rand(100, 1)  # Input feature\n",
    "y = 2 * X + 1 + 0.1 * np.random.randn(100, 1)  # True linear relationship with noise"
   ]
  },
  {
   "cell_type": "markdown",
   "id": "575663ad",
   "metadata": {},
   "source": [
    "**We split the data into training and testing sets to evaluate the model's performance.**"
   ]
  },
  {
   "cell_type": "code",
   "execution_count": 5,
   "id": "394e058f",
   "metadata": {},
   "outputs": [],
   "source": [
    "# Split the data into training (80%) and testing sets (20%)\n",
    "X_train, X_test, y_train, y_test = train_test_split(X, y, test_size=0.2, random_state=42)"
   ]
  },
  {
   "cell_type": "markdown",
   "id": "1189e2dd",
   "metadata": {},
   "source": [
    "**We create a linear regression model using LinearRegression from Scikit-Learn.**"
   ]
  },
  {
   "cell_type": "code",
   "execution_count": 6,
   "id": "8579385b",
   "metadata": {},
   "outputs": [],
   "source": [
    "# Create a linear regression model\n",
    "model = LinearRegression()"
   ]
  },
  {
   "cell_type": "markdown",
   "id": "293e7232",
   "metadata": {},
   "source": [
    "**We fit the model to the training data using model.fit.**"
   ]
  },
  {
   "cell_type": "code",
   "execution_count": 7,
   "id": "1cb57217",
   "metadata": {},
   "outputs": [
    {
     "data": {
      "text/html": [
       "<style>#sk-container-id-1 {color: black;background-color: white;}#sk-container-id-1 pre{padding: 0;}#sk-container-id-1 div.sk-toggleable {background-color: white;}#sk-container-id-1 label.sk-toggleable__label {cursor: pointer;display: block;width: 100%;margin-bottom: 0;padding: 0.3em;box-sizing: border-box;text-align: center;}#sk-container-id-1 label.sk-toggleable__label-arrow:before {content: \"▸\";float: left;margin-right: 0.25em;color: #696969;}#sk-container-id-1 label.sk-toggleable__label-arrow:hover:before {color: black;}#sk-container-id-1 div.sk-estimator:hover label.sk-toggleable__label-arrow:before {color: black;}#sk-container-id-1 div.sk-toggleable__content {max-height: 0;max-width: 0;overflow: hidden;text-align: left;background-color: #f0f8ff;}#sk-container-id-1 div.sk-toggleable__content pre {margin: 0.2em;color: black;border-radius: 0.25em;background-color: #f0f8ff;}#sk-container-id-1 input.sk-toggleable__control:checked~div.sk-toggleable__content {max-height: 200px;max-width: 100%;overflow: auto;}#sk-container-id-1 input.sk-toggleable__control:checked~label.sk-toggleable__label-arrow:before {content: \"▾\";}#sk-container-id-1 div.sk-estimator input.sk-toggleable__control:checked~label.sk-toggleable__label {background-color: #d4ebff;}#sk-container-id-1 div.sk-label input.sk-toggleable__control:checked~label.sk-toggleable__label {background-color: #d4ebff;}#sk-container-id-1 input.sk-hidden--visually {border: 0;clip: rect(1px 1px 1px 1px);clip: rect(1px, 1px, 1px, 1px);height: 1px;margin: -1px;overflow: hidden;padding: 0;position: absolute;width: 1px;}#sk-container-id-1 div.sk-estimator {font-family: monospace;background-color: #f0f8ff;border: 1px dotted black;border-radius: 0.25em;box-sizing: border-box;margin-bottom: 0.5em;}#sk-container-id-1 div.sk-estimator:hover {background-color: #d4ebff;}#sk-container-id-1 div.sk-parallel-item::after {content: \"\";width: 100%;border-bottom: 1px solid gray;flex-grow: 1;}#sk-container-id-1 div.sk-label:hover label.sk-toggleable__label {background-color: #d4ebff;}#sk-container-id-1 div.sk-serial::before {content: \"\";position: absolute;border-left: 1px solid gray;box-sizing: border-box;top: 0;bottom: 0;left: 50%;z-index: 0;}#sk-container-id-1 div.sk-serial {display: flex;flex-direction: column;align-items: center;background-color: white;padding-right: 0.2em;padding-left: 0.2em;position: relative;}#sk-container-id-1 div.sk-item {position: relative;z-index: 1;}#sk-container-id-1 div.sk-parallel {display: flex;align-items: stretch;justify-content: center;background-color: white;position: relative;}#sk-container-id-1 div.sk-item::before, #sk-container-id-1 div.sk-parallel-item::before {content: \"\";position: absolute;border-left: 1px solid gray;box-sizing: border-box;top: 0;bottom: 0;left: 50%;z-index: -1;}#sk-container-id-1 div.sk-parallel-item {display: flex;flex-direction: column;z-index: 1;position: relative;background-color: white;}#sk-container-id-1 div.sk-parallel-item:first-child::after {align-self: flex-end;width: 50%;}#sk-container-id-1 div.sk-parallel-item:last-child::after {align-self: flex-start;width: 50%;}#sk-container-id-1 div.sk-parallel-item:only-child::after {width: 0;}#sk-container-id-1 div.sk-dashed-wrapped {border: 1px dashed gray;margin: 0 0.4em 0.5em 0.4em;box-sizing: border-box;padding-bottom: 0.4em;background-color: white;}#sk-container-id-1 div.sk-label label {font-family: monospace;font-weight: bold;display: inline-block;line-height: 1.2em;}#sk-container-id-1 div.sk-label-container {text-align: center;}#sk-container-id-1 div.sk-container {/* jupyter's `normalize.less` sets `[hidden] { display: none; }` but bootstrap.min.css set `[hidden] { display: none !important; }` so we also need the `!important` here to be able to override the default hidden behavior on the sphinx rendered scikit-learn.org. See: https://github.com/scikit-learn/scikit-learn/issues/21755 */display: inline-block !important;position: relative;}#sk-container-id-1 div.sk-text-repr-fallback {display: none;}</style><div id=\"sk-container-id-1\" class=\"sk-top-container\"><div class=\"sk-text-repr-fallback\"><pre>LinearRegression()</pre><b>In a Jupyter environment, please rerun this cell to show the HTML representation or trust the notebook. <br />On GitHub, the HTML representation is unable to render, please try loading this page with nbviewer.org.</b></div><div class=\"sk-container\" hidden><div class=\"sk-item\"><div class=\"sk-estimator sk-toggleable\"><input class=\"sk-toggleable__control sk-hidden--visually\" id=\"sk-estimator-id-1\" type=\"checkbox\" checked><label for=\"sk-estimator-id-1\" class=\"sk-toggleable__label sk-toggleable__label-arrow\">LinearRegression</label><div class=\"sk-toggleable__content\"><pre>LinearRegression()</pre></div></div></div></div></div>"
      ],
      "text/plain": [
       "LinearRegression()"
      ]
     },
     "execution_count": 7,
     "metadata": {},
     "output_type": "execute_result"
    }
   ],
   "source": [
    "# Fit the model to the training data\n",
    "model.fit(X_train, y_train)"
   ]
  },
  {
   "cell_type": "markdown",
   "id": "b3f7ce30",
   "metadata": {},
   "source": [
    "**We make predictions on the test data with model.predict.**"
   ]
  },
  {
   "cell_type": "code",
   "execution_count": 8,
   "id": "6f9cce07",
   "metadata": {},
   "outputs": [],
   "source": [
    "# Make predictions on the test data\n",
    "y_pred = model.predict(X_test)"
   ]
  },
  {
   "cell_type": "markdown",
   "id": "70975a8b",
   "metadata": {},
   "source": [
    "**We evaluate the model's performance using Mean Squared Error (`mse`) and R-squared (`r2`) metrics.**\n",
    "\n",
    "**i. Mean Squared Error (MSE):**\n",
    "\n",
    "**Importance:** MSE measures the average squared difference between the predicted values and the actual values in the dataset. It quantifies the model's accuracy by assessing how close its predictions are to the true values.\n",
    "\n",
    "**Interpretation:** A lower MSE indicates better model performance. It penalizes larger prediction errors more heavily, making it sensitive to outliers. MSE is useful when you want to measure the precision of predictions.\n",
    "\n",
    "**ii. R-squared (R2) Score:**\n",
    "\n",
    "**Importance:** R2 measures the proportion of the variance in the target variable that is predictable from the independent variables (features) in the model. It provides insight into how well the model explains the variability in the data.\n",
    "\n",
    "**Interpretation:** R2 score ranges from 0 to 1, where 0 indicates that the model does not explain any variance, and 1 indicates a perfect fit where the model explains all the variance. Higher R2 values suggest a better fit, but it's essential to consider the context of the problem and domain knowledge when interpreting R2."
   ]
  },
  {
   "cell_type": "code",
   "execution_count": 9,
   "id": "fbf0854d",
   "metadata": {},
   "outputs": [],
   "source": [
    "# Evaluate the model performance using metrics\n",
    "mse = mean_squared_error(y_test, y_pred)  # Mean Squared Error\n",
    "r2 = r2_score(y_test, y_pred)  # R-squared"
   ]
  },
  {
   "cell_type": "markdown",
   "id": "19c66b63",
   "metadata": {},
   "source": [
    "**We print the model's performance metrics to assess its accuracy**"
   ]
  },
  {
   "cell_type": "code",
   "execution_count": 10,
   "id": "0f0ebdad",
   "metadata": {},
   "outputs": [
    {
     "name": "stdout",
     "output_type": "stream",
     "text": [
      "Mean Squared Error: 0.01\n",
      "R-squared: 0.96\n"
     ]
    }
   ],
   "source": [
    "# Print the model's performance metrics\n",
    "print(f\"Mean Squared Error: {mse:.2f}\")\n",
    "print(f\"R-squared: {r2:.2f}\")"
   ]
  },
  {
   "cell_type": "markdown",
   "id": "4410e92c",
   "metadata": {},
   "source": [
    "**Finally, we plot the data and the regression line to visualize the model's performance.**"
   ]
  },
  {
   "cell_type": "code",
   "execution_count": 11,
   "id": "3c3e13e7",
   "metadata": {},
   "outputs": [
    {
     "data": {
      "image/png": "[encoded data removed]",
      "text/plain": [
       "<Figure size 432x288 with 1 Axes>"
      ]
     },
     "metadata": {
      "needs_background": "light"
     },
     "output_type": "display_data"
    }
   ],
   "source": [
    "# Plot the data and the regression line\n",
    "plt.scatter(X, y, label='Data')\n",
    "plt.plot(X_test, y_pred, color='red', label='Regression Line')\n",
    "plt.xlabel('Feature')\n",
    "plt.ylabel('Target')\n",
    "plt.legend()\n",
    "plt.show()"
   ]
  },
  {
   "cell_type": "markdown",
   "id": "82a69e70",
   "metadata": {},
   "source": [
    "### Classification\n",
    "\n",
    "**Logistic Regression**\n",
    "\n",
    "Here, we'll focus on classification and use `Scikit-learn` to implement `logistic regression`, a popular algorithm for binary classification.\n",
    "\n",
    "The code below demonstrates how to implement a basic supervised learning algorithm `(logistic regression)` for classification using `Scikit-learn`."
   ]
  },
  {
   "cell_type": "code",
   "execution_count": 12,
   "id": "1688181c",
   "metadata": {},
   "outputs": [],
   "source": [
    "# Import necessary libraries\n",
    "from sklearn import datasets\n",
    "\n",
    "from sklearn.model_selection import train_test_split\n",
    "\n",
    "from sklearn.linear_model import LogisticRegression\n",
    "\n",
    "from sklearn.metrics import accuracy_score, classification_report"
   ]
  },
  {
   "cell_type": "markdown",
   "id": "e1ccbdda",
   "metadata": {},
   "source": [
    "**We load the `Iris` dataset as an example**"
   ]
  },
  {
   "cell_type": "code",
   "execution_count": 13,
   "id": "2fb8098f",
   "metadata": {},
   "outputs": [],
   "source": [
    "# Load a dataset (e.g., Iris dataset)\n",
    "data = datasets.load_iris()\n",
    "X = data.data\n",
    "y = data.target"
   ]
  },
  {
   "cell_type": "markdown",
   "id": "a2fe0fcf",
   "metadata": {},
   "source": [
    "**Split the dataset into training and testing sets**"
   ]
  },
  {
   "cell_type": "code",
   "execution_count": 14,
   "id": "b3530be1",
   "metadata": {},
   "outputs": [],
   "source": [
    "# Split the dataset into training and testing sets\n",
    "X_train, X_test, y_train, y_test = train_test_split(X, y, test_size=0.3, random_state=42)"
   ]
  },
  {
   "cell_type": "markdown",
   "id": "d1a3bbb7",
   "metadata": {},
   "source": [
    "**Initialize a logistic regression model and train it on the training data**"
   ]
  },
  {
   "cell_type": "code",
   "execution_count": 15,
   "id": "cdfd4d17",
   "metadata": {},
   "outputs": [
    {
     "data": {
      "text/html": [
       "<style>#sk-container-id-2 {color: black;background-color: white;}#sk-container-id-2 pre{padding: 0;}#sk-container-id-2 div.sk-toggleable {background-color: white;}#sk-container-id-2 label.sk-toggleable__label {cursor: pointer;display: block;width: 100%;margin-bottom: 0;padding: 0.3em;box-sizing: border-box;text-align: center;}#sk-container-id-2 label.sk-toggleable__label-arrow:before {content: \"▸\";float: left;margin-right: 0.25em;color: #696969;}#sk-container-id-2 label.sk-toggleable__label-arrow:hover:before {color: black;}#sk-container-id-2 div.sk-estimator:hover label.sk-toggleable__label-arrow:before {color: black;}#sk-container-id-2 div.sk-toggleable__content {max-height: 0;max-width: 0;overflow: hidden;text-align: left;background-color: #f0f8ff;}#sk-container-id-2 div.sk-toggleable__content pre {margin: 0.2em;color: black;border-radius: 0.25em;background-color: #f0f8ff;}#sk-container-id-2 input.sk-toggleable__control:checked~div.sk-toggleable__content {max-height: 200px;max-width: 100%;overflow: auto;}#sk-container-id-2 input.sk-toggleable__control:checked~label.sk-toggleable__label-arrow:before {content: \"▾\";}#sk-container-id-2 div.sk-estimator input.sk-toggleable__control:checked~label.sk-toggleable__label {background-color: #d4ebff;}#sk-container-id-2 div.sk-label input.sk-toggleable__control:checked~label.sk-toggleable__label {background-color: #d4ebff;}#sk-container-id-2 input.sk-hidden--visually {border: 0;clip: rect(1px 1px 1px 1px);clip: rect(1px, 1px, 1px, 1px);height: 1px;margin: -1px;overflow: hidden;padding: 0;position: absolute;width: 1px;}#sk-container-id-2 div.sk-estimator {font-family: monospace;background-color: #f0f8ff;border: 1px dotted black;border-radius: 0.25em;box-sizing: border-box;margin-bottom: 0.5em;}#sk-container-id-2 div.sk-estimator:hover {background-color: #d4ebff;}#sk-container-id-2 div.sk-parallel-item::after {content: \"\";width: 100%;border-bottom: 1px solid gray;flex-grow: 1;}#sk-container-id-2 div.sk-label:hover label.sk-toggleable__label {background-color: #d4ebff;}#sk-container-id-2 div.sk-serial::before {content: \"\";position: absolute;border-left: 1px solid gray;box-sizing: border-box;top: 0;bottom: 0;left: 50%;z-index: 0;}#sk-container-id-2 div.sk-serial {display: flex;flex-direction: column;align-items: center;background-color: white;padding-right: 0.2em;padding-left: 0.2em;position: relative;}#sk-container-id-2 div.sk-item {position: relative;z-index: 1;}#sk-container-id-2 div.sk-parallel {display: flex;align-items: stretch;justify-content: center;background-color: white;position: relative;}#sk-container-id-2 div.sk-item::before, #sk-container-id-2 div.sk-parallel-item::before {content: \"\";position: absolute;border-left: 1px solid gray;box-sizing: border-box;top: 0;bottom: 0;left: 50%;z-index: -1;}#sk-container-id-2 div.sk-parallel-item {display: flex;flex-direction: column;z-index: 1;position: relative;background-color: white;}#sk-container-id-2 div.sk-parallel-item:first-child::after {align-self: flex-end;width: 50%;}#sk-container-id-2 div.sk-parallel-item:last-child::after {align-self: flex-start;width: 50%;}#sk-container-id-2 div.sk-parallel-item:only-child::after {width: 0;}#sk-container-id-2 div.sk-dashed-wrapped {border: 1px dashed gray;margin: 0 0.4em 0.5em 0.4em;box-sizing: border-box;padding-bottom: 0.4em;background-color: white;}#sk-container-id-2 div.sk-label label {font-family: monospace;font-weight: bold;display: inline-block;line-height: 1.2em;}#sk-container-id-2 div.sk-label-container {text-align: center;}#sk-container-id-2 div.sk-container {/* jupyter's `normalize.less` sets `[hidden] { display: none; }` but bootstrap.min.css set `[hidden] { display: none !important; }` so we also need the `!important` here to be able to override the default hidden behavior on the sphinx rendered scikit-learn.org. See: https://github.com/scikit-learn/scikit-learn/issues/21755 */display: inline-block !important;position: relative;}#sk-container-id-2 div.sk-text-repr-fallback {display: none;}</style><div id=\"sk-container-id-2\" class=\"sk-top-container\"><div class=\"sk-text-repr-fallback\"><pre>LogisticRegression(random_state=42)</pre><b>In a Jupyter environment, please rerun this cell to show the HTML representation or trust the notebook. <br />On GitHub, the HTML representation is unable to render, please try loading this page with nbviewer.org.</b></div><div class=\"sk-container\" hidden><div class=\"sk-item\"><div class=\"sk-estimator sk-toggleable\"><input class=\"sk-toggleable__control sk-hidden--visually\" id=\"sk-estimator-id-2\" type=\"checkbox\" checked><label for=\"sk-estimator-id-2\" class=\"sk-toggleable__label sk-toggleable__label-arrow\">LogisticRegression</label><div class=\"sk-toggleable__content\"><pre>LogisticRegression(random_state=42)</pre></div></div></div></div></div>"
      ],
      "text/plain": [
       "LogisticRegression(random_state=42)"
      ]
     },
     "execution_count": 15,
     "metadata": {},
     "output_type": "execute_result"
    }
   ],
   "source": [
    "# Initialize and train a logistic regression model\n",
    "clf = LogisticRegression(random_state=42)\n",
    "clf.fit(X_train, y_train)"
   ]
  },
  {
   "cell_type": "markdown",
   "id": "579122f5",
   "metadata": {},
   "source": [
    "**Make predictions on the test data**"
   ]
  },
  {
   "cell_type": "code",
   "execution_count": 16,
   "id": "cfaf8cc8",
   "metadata": {},
   "outputs": [],
   "source": [
    "# Make predictions on the test set\n",
    "y_pred = clf.predict(X_test)"
   ]
  },
  {
   "cell_type": "markdown",
   "id": "70736936",
   "metadata": {},
   "source": [
    "**Evaluate the model's performance using accuracy and a classification report**"
   ]
  },
  {
   "cell_type": "code",
   "execution_count": 17,
   "id": "c8b933e2",
   "metadata": {},
   "outputs": [
    {
     "name": "stdout",
     "output_type": "stream",
     "text": [
      "Accuracy: 1.0\n",
      "\n",
      "Classification Report:\n",
      "              precision    recall  f1-score   support\n",
      "\n",
      "           0       1.00      1.00      1.00        19\n",
      "           1       1.00      1.00      1.00        13\n",
      "           2       1.00      1.00      1.00        13\n",
      "\n",
      "    accuracy                           1.00        45\n",
      "   macro avg       1.00      1.00      1.00        45\n",
      "weighted avg       1.00      1.00      1.00        45\n",
      "\n"
     ]
    }
   ],
   "source": [
    "# Evaluate the model's performance\n",
    "accuracy = accuracy_score(y_test, y_pred)\n",
    "report = classification_report(y_test, y_pred)\n",
    "\n",
    "print(f\"Accuracy: {accuracy}\")\n",
    "print()\n",
    "print(f\"Classification Report:\\n{report}\")"
   ]
  },
  {
   "cell_type": "markdown",
   "id": "27c9ae38",
   "metadata": {},
   "source": [
    "### Evaluation Metrics\n",
    "\n",
    "The metrics used to evaluate logistic regression models are essential for assessing the model's performance and understanding its strengths and weaknesses. Here's a brief explanation of the importance of some commonly used logistic regression metrics:\n",
    "\n",
    "**1. Accuracy:**\n",
    "\n",
    "- **Importance:** Accuracy is a simple and intuitive metric. It measures the proportion of correctly classified instances out of the total instances.\n",
    "- **Use Case:** It provides a general sense of how well the model is performing overall.\n",
    "- **Considerations:** Accuracy can be misleading when dealing with imbalanced datasets, where one class is much more prevalent than others. In such cases, high accuracy may not necessarily indicate a good model.\n",
    "\n",
    "**2. Precision:**\n",
    "\n",
    "- **Importance:** Precision measures the proportion of true positive predictions (correctly identified positive cases) among all instances predicted as positive.\n",
    "- **Use Case:** It is crucial when the cost of false positives is high, and you want to minimize the chances of making incorrect positive predictions.\n",
    "- **Considerations:** High precision may result in lower recall, and the balance between precision and recall depends on the specific problem and its requirements.\n",
    "\n",
    "**3. Recall (Sensitivity or True Positive Rate):**\n",
    "\n",
    "- **Importance:** Recall measures the proportion of true positive predictions among all actual positive instances in the dataset.\n",
    "- **Use Case:** It is important when you want to capture as many positive cases as possible and are more concerned about avoiding false negatives (missed positive cases).\n",
    "- **Considerations:** High recall may lead to lower precision, and finding the right trade-off is often necessary.\n",
    "\n",
    "**4. F1-Score:**\n",
    "\n",
    "- **Importance:** The F1-score is the harmonic mean of precision and recall. It provides a single metric that balances both precision and recall.\n",
    "- **Use Case:** It is useful when you need a single metric to assess the model's overall performance, especially in situations where precision and recall have conflicting requirements.\n",
    "- **Considerations:** The F1-score is particularly valuable for imbalanced datasets, as it considers both false positives and false negatives.\n",
    "\n",
    "**5. ROC Curve and AUC (Area Under the ROC Curve):**\n",
    "\n",
    "- **Importance:** The ROC curve visually represents the trade-off between the true positive rate (recall) and the false positive rate for different classification thresholds. AUC quantifies the overall performance of the model.\n",
    "- **Use Case:** It helps you assess the model's ability to distinguish between positive and negative cases across various thresholds.\n",
    "- **Considerations:** AUC is useful for comparing different models, and a higher AUC generally indicates better overall model performance.\n",
    "\n",
    "**6. Confusion Matrix:**\n",
    "\n",
    "- **Importance:** The confusion matrix provides a detailed breakdown of true positives, true negatives, false positives, and false negatives.\n",
    "- **Use Case:** It helps in understanding where the model is making errors and can be valuable for diagnostic purposes.\n",
    "- **Considerations:** Along with precision, recall, and F1-score, the confusion matrix provides a comprehensive view of classification performance.\n",
    "\n",
    "The choice of which metric(s) to use depends on the specific goals of your classification problem and the relative importance of different types of errors in your application. Careful consideration of these metrics helps in making informed decisions about model performance and fine-tuning model parameters."
   ]
  },
  {
   "cell_type": "markdown",
   "id": "c7a814ab",
   "metadata": {},
   "source": [
    "### Cross-validation\n",
    "\n",
    "Cross-validation is a crucial technique for assessing a machine learning model's performance and preventing overfitting. K-fold cross-validation and stratified K-fold cross-validation are commonly used methods. Here's how to use them to validate the logistic regression model trained earlier:"
   ]
  },
  {
   "cell_type": "code",
   "execution_count": 18,
   "id": "1882ce47",
   "metadata": {},
   "outputs": [],
   "source": [
    "# Import necessary libraries\n",
    "from sklearn.model_selection import GridSearchCV, cross_val_score"
   ]
  },
  {
   "cell_type": "code",
   "execution_count": 19,
   "id": "bc8d3562",
   "metadata": {},
   "outputs": [],
   "source": [
    "# Define hyperparameters and their possible values to search\n",
    "param_grid = {\n",
    "    'C': [0.001, 0.01, 0.1, 1, 10, 100],  # Regularization parameter\n",
    "    'penalty': ['l1', 'l2'],       # Regularization type\n",
    "    'solver': ['liblinear'],       # Solver for logistic regression\n",
    "#     'random_state': [42]\n",
    "}"
   ]
  },
  {
   "cell_type": "code",
   "execution_count": 20,
   "id": "4e25896d",
   "metadata": {},
   "outputs": [],
   "source": [
    "# Create an instance of GridSearchCV with cross-validation (e.g., stratified K-fold)\n",
    "grid_search = GridSearchCV(estimator=clf, param_grid=param_grid, cv=5, scoring='accuracy', n_jobs=-1)"
   ]
  },
  {
   "cell_type": "code",
   "execution_count": null,
   "id": "bf2b012d",
   "metadata": {},
   "outputs": [],
   "source": [
    "# Fit the model on the training data\n",
    "grid_search.fit(X, y)"
   ]
  },
  {
   "cell_type": "code",
   "execution_count": null,
   "id": "f55775ce",
   "metadata": {},
   "outputs": [],
   "source": [
    "# Print the best hyperparameters and corresponding accuracy\n",
    "best_params = grid_search.best_params_\n",
    "best_accuracy = grid_search.best_score_\n",
    "\n",
    "print(\"Best Hyperparameters:\", best_params)\n",
    "print(f\"Best Accuracy: {best_accuracy:.2f}\")"
   ]
  },
  {
   "cell_type": "code",
   "execution_count": null,
   "id": "4928d72c",
   "metadata": {
    "scrolled": true
   },
   "outputs": [],
   "source": [
    "results = pd.DataFrame(grid_search.cv_results_)\n",
    "results.sort_values(\"rank_test_score\").head(5)"
   ]
  }
 ],
 "metadata": {
  "kernelspec": {
   "display_name": "Python 3",
   "language": "python",
   "name": "python3"
  },
  "language_info": {
   "codemirror_mode": {
    "name": "ipython",
    "version": 3
   },
   "file_extension": ".py",
   "mimetype": "text/x-python",
   "name": "python",
   "nbconvert_exporter": "python",
   "pygments_lexer": "ipython3",
   "version": "3.11.5"
  }
 },
 "nbformat": 4,
 "nbformat_minor": 5
}
