{
 "cells": [
  {
   "cell_type": "markdown",
   "id": "feca7de4",
   "metadata": {},
   "source": [
    "# Clustering for Customer Segmentation with KMeans\n",
    "\n",
    "\n",
    "## Key Takeaways\n",
    "In this module, students will gain a comprehensive understanding of KMeans clustering and its applications in customer segmentation. \n",
    "\n",
    "__They will learn how to:__\n",
    "- choose the optimal number of clusters, \n",
    "- visualize cluster results, and \n",
    "- apply clustering techniques to real-world datasets. \n",
    "\n",
    "Through practical exercises and projects, students will develop the skills necessary to leverage clustering for data-driven decision-making in various domains."
   ]
  },
  {
   "cell_type": "markdown",
   "id": "378e648e",
   "metadata": {},
   "source": [
    "## Introduction to Clustering\n",
    "- Definition of Clustering\n",
    "- Unsupervised Learning vs. Supervised Learning\n",
    "- Applications of Clustering in Data Science\n",
    "- Types of Clustering Algorithms: Partitioning, Hierarchical, Density-Based, Model-Based\n"
   ]
  },
  {
   "cell_type": "markdown",
   "id": "3cdd8887",
   "metadata": {},
   "source": [
    "## KMeans Algorithm\n",
    "\n",
    "__Overview of KMeans Clustering__\n",
    "\n",
    "___How KMeans Works:___\n",
    "1. Initialization: Randomly select initial cluster centroids\n",
    "2. Assignment: Assign each data point to the nearest cluster centroid\n",
    "3. Update: Recalculate the cluster centroids based on the mean of data points in each cluster\n",
    "4. Repeat Assignment and Update steps until convergence\n",
    "\n",
    "__Determining the Optimal Number of Clusters:__\n",
    "1. Elbow Method\n",
    "2. Silhouette Score"
   ]
  },
  {
   "cell_type": "markdown",
   "id": "b6061995",
   "metadata": {},
   "source": [
    "## Choosing the Optimal Number of Clusters\n",
    "\n",
    "__Elbow Method:__\n",
    "- Explanation of Elbow Method\n",
    "- Plotting the Within-Cluster Sum of Squares (WCSS) against the number of clusters\n",
    "- Identifying the \"elbow\" point where the rate of decrease in WCSS slows down\n",
    "\n",
    "__Silhouette Score:__\n",
    "- Explanation of Silhouette Score\n",
    "- Calculating the Silhouette Score for different numbers of clusters\n",
    "- Choosing the number of clusters with the highest Silhouette Score"
   ]
  },
  {
   "cell_type": "markdown",
   "id": "df990d3b",
   "metadata": {},
   "source": [
    "## Visualizing Clusters\n",
    "\n",
    "__Techniques for Visualizing Cluster Results:__\n",
    "- Scatter plots with cluster centroids\n",
    "- Cluster profiles: Mean feature values for each cluster\n",
    "- Cluster heatmaps: Visualizing cluster characteristics\n",
    "\n",
    "__Interpreting and Analyzing Cluster Results:__\n",
    "- Identifying distinct customer segments or groups\n",
    "- Understanding the characteristics and behaviors of each cluster\n",
    "- Extracting insights for business decisions and marketing strategies"
   ]
  },
  {
   "cell_type": "markdown",
   "id": "09192155",
   "metadata": {},
   "source": [
    "## Applications in Market Segmentation\n",
    "\n",
    "__How data science helps:__\n",
    "\n",
    "- Businesses analyze customer data to create targeted marketing strategies that cater to specific groups (segments), improving engagement and loyalty.\n",
    "\n",
    "__Types of customer segmentation features:__\n",
    "\n",
    "- Demographic, Geographic, Psychographic, and Behavioural.\n",
    "\n",
    "__Demographic__ - grouping is based on demographic variables such as age, gender, income, occupation, and education level. \n",
    "\n",
    "__Geographic__ - group according to their location, which could be as broad as a country or as specific as a neighborhood. This helps in tailoring marketing campaigns that are culturally and regionally relevant. \n",
    "\n",
    "__Psychographic__ - includes lifestyle, values, attitudes, and personal traits. \n",
    "\n",
    "__Behavioural__ - customers are divided based on their behaviour patterns related to the business, such as purchase history, product usage frequency, brand loyalty, and user status (new, potential, or loyal customers).\n",
    "\n",
    "__What data do I regularly segment on for Email Marketing Segmentation?__ \n",
    "\n",
    "Recency Frequency Monetary (RFM) features, time on list, time since last purchase, spend in last 30 days, products purchased, interests (what they clicking on), events attended, email scoring, clicked on a product page (which ones?), geographic region, number of tags, number of events, and many more.\n",
    "\n",
    "__Algorithms used:__\n",
    "\n",
    "- KMeans - great tool for finding similar customers.\n"
   ]
  },
  {
   "cell_type": "code",
   "execution_count": 1,
   "id": "b61d5f00",
   "metadata": {},
   "outputs": [],
   "source": [
    "# Libraries\n",
    "import pandas as pd\n",
    "import matplotlib.pyplot as plt\n",
    "\n",
    "from sklearn.cluster import KMeans"
   ]
  },
  {
   "cell_type": "code",
   "execution_count": null,
   "id": "8980c732",
   "metadata": {},
   "outputs": [],
   "source": []
  },
  {
   "cell_type": "code",
   "execution_count": null,
   "id": "05ad25dd",
   "metadata": {},
   "outputs": [],
   "source": []
  },
  {
   "cell_type": "code",
   "execution_count": null,
   "id": "13ea0f1d",
   "metadata": {},
   "outputs": [],
   "source": []
  },
  {
   "cell_type": "code",
   "execution_count": null,
   "id": "bc9c3a00",
   "metadata": {},
   "outputs": [],
   "source": []
  },
  {
   "cell_type": "code",
   "execution_count": null,
   "id": "2f40e630",
   "metadata": {},
   "outputs": [],
   "source": []
  }
 ],
 "metadata": {
  "kernelspec": {
   "display_name": "Python 3",
   "language": "python",
   "name": "python3"
  },
  "language_info": {
   "codemirror_mode": {
    "name": "ipython",
    "version": 3
   },
   "file_extension": ".py",
   "mimetype": "text/x-python",
   "name": "python",
   "nbconvert_exporter": "python",
   "pygments_lexer": "ipython3",
   "version": "3.11.7"
  }
 },
 "nbformat": 4,
 "nbformat_minor": 5
}
